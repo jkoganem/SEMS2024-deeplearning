{
 "cells": [
  {
   "cell_type": "code",
   "execution_count": 54,
   "metadata": {},
   "outputs": [
    {
     "name": "stdout",
     "output_type": "stream",
     "text": [
      "All libraries loaded\n"
     ]
    }
   ],
   "source": [
    "import numpy as np\n",
    "import random\n",
    "\n",
    "import torch\n",
    "import torch.nn as nn\n",
    "import torch.nn.functional as F\n",
    "import torch.optim as optim\n",
    "from torch.utils.data import Dataset\n",
    "from torch.utils.data import DataLoader\n",
    "from torchvision import transforms\n",
    "\n",
    "from pandas import read_csv\n",
    "import matplotlib.pyplot as plt\n",
    "from matplotlib.pyplot import figure\n",
    "\n",
    "import alpha_vantage\n",
    "from alpha_vantage.timeseries import TimeSeries \n",
    "\n",
    "from tqdm import tqdm\n",
    "\n",
    "print(\"All libraries loaded\")\n"
   ]
  },
  {
   "cell_type": "code",
   "execution_count": 55,
   "metadata": {},
   "outputs": [],
   "source": [
    "config = {\n",
    "    \"alpha_vantage\": {\n",
    "        \"key\": \"KNKL5W59B6K6W1LD\",\n",
    "        \"symbol\": \"AAPL\",\n",
    "        \"outputsize\": \"full\",\n",
    "        \"key_adjusted_close\": \"4. close\",\n",
    "    },\n",
    "    \"data\": {\n",
    "        \"window_size\": 100,\n",
    "        \"train_split_size\": 0.9,\n",
    "    }, \n",
    "    \"plots\": {\n",
    "        \"xticks_interval\": 500, # show a date every 90 days\n",
    "        \"color_actual\": \"#001f3f\",\n",
    "        \"color_train\": \"#3D9970\",\n",
    "        \"color_val\": \"#0074D9\",\n",
    "        \"color_pred_train\": \"#3D9970\",\n",
    "        \"color_pred_val\": \"#0074D9\",\n",
    "        \"color_pred_test\": \"#FF4136\",\n",
    "    },\n",
    "    \"model\": {\n",
    "        \"input_size\": 1, # since we are only using 1 feature, close price\n",
    "        \"num_lstm_layers\": 2,\n",
    "        \"lstm_size\": 32,\n",
    "        \"dropout\": 0,\n",
    "    },\n",
    "    \"training\": {\n",
    "        \"device\": \"cpu\", # \"cuda\" or \"cpu\"\n",
    "        \"batch_size\": 64,\n",
    "        \"num_epoch\": 100,\n",
    "        \"learning_rate\": 0.0001,\n",
    "        \"scheduler_step_size\": 40,\n",
    "    },\n",
    "    \"csv\":{\n",
    "        \"file_name\": \"AAPL.csv\",\n",
    "    }\n",
    "}\n",
    "\n",
    "config_rand = []\n",
    "\n",
    "for i in range(100):\n",
    "    config_rand += [float(random.randrange(0,100))]\n"
   ]
  },
  {
   "cell_type": "code",
   "execution_count": 56,
   "metadata": {},
   "outputs": [
    {
     "name": "stdout",
     "output_type": "stream",
     "text": [
      "Number data points 1826 from 2019-07-03 to 2024-07-01\n",
      "[11961.269531 11215.4375   10978.459961 ... 60887.378906 62678.292969\n",
      " 62851.980469]\n"
     ]
    },
    {
     "data": {
      "text/plain": [
       "'\\nfig = figure(figsize=(40, 5), dpi=80)\\nfig.patch.set_facecolor((1.0, 1.0, 1.0))\\nplt.plot(data_date, data_close_price, color=config[\"plots\"][\"color_actual\"])\\nxticks = [data_date[i] if ((i%config[\"plots\"][\"xticks_interval\"]==0 and (num_data_points-i) > config[\"plots\"][\"xticks_interval\"]) or i==num_data_points-1) else None for i in range(num_data_points)] # make x ticks nice\\nx = np.arange(0,len(xticks))\\nplt.xticks(x, xticks, rotation=\\'vertical\\')\\nplt.title(\"Daily close price for \" + config[\"alpha_vantage\"][\"symbol\"] + \", \" + display_date_range)\\nplt.show()\\n'"
      ]
     },
     "execution_count": 56,
     "metadata": {},
     "output_type": "execute_result"
    }
   ],
   "source": [
    "# loading data from Alpha Advantage API\n",
    "'''\n",
    "def download_data(config):\n",
    "    ts = TimeSeries(key=config[\"alpha_vantage\"][\"key\"])\n",
    "    data, meta_data = ts.get_daily(config[\"alpha_vantage\"][\"symbol\"], outputsize=config[\"alpha_vantage\"][\"outputsize\"])\n",
    "\n",
    "    data_date = [date for date in data.keys()]\n",
    "    data_date.reverse()\n",
    "\n",
    "    data_close_price = [float(data[date][config[\"alpha_vantage\"][\"key_adjusted_close\"]]) for date in data.keys()]\n",
    "    data_close_price.reverse()\n",
    "    data_close_price = np.array(data_close_price)\n",
    "    num_data_points = len(data_date)\n",
    "    display_date_range = \"from \" + data_date[0] + \" to \" + data_date[num_data_points-1]\n",
    "    print(\"Number data points\", num_data_points, display_date_range)\n",
    "\n",
    "    return data_date, data_close_price, num_data_points, display_date_range\n",
    "\n",
    "data_date, data_close_price, num_data_points, display_date_range = download_data(config)\n",
    "'''\n",
    "\n",
    "# loading data from local csv files\n",
    "def download_data(config):\n",
    "    stock_data = np.matrix(read_csv(\"BTC-USD.csv\"))\n",
    "    data_date = np.array(stock_data[:, 0])\n",
    "    data_close_price = np.array(stock_data[:, 5])\n",
    "\n",
    "    data_date = [elem[0] for elem in data_date]\n",
    "    date_close_price = [float(elem[0]) for elem in data_close_price]\n",
    "    data_close_price = np.array(date_close_price)\n",
    "\n",
    "    #data_date = data_date[::-1]\n",
    "    #data_close_price = data_close_price[::-1]\n",
    "\n",
    "    cut_off = 1826\n",
    "    data_date = data_date[:cut_off]\n",
    "    data_close_price = data_close_price[:cut_off]\n",
    "\n",
    "   #data_date = np.arange(len(data_date))\n",
    "\n",
    "    num_data_points = len(data_date)\n",
    "    display_date_range = \"from \" + str(data_date[0]) + \" to \" + str(data_date[num_data_points-1])\n",
    "    print(\"Number data points\", num_data_points, display_date_range)\n",
    "\n",
    "    return data_date, data_close_price, num_data_points, display_date_range\n",
    "\n",
    "\n",
    "data_date, data_close_price, num_data_points, display_date_range = download_data(config)\n",
    "\n",
    "print(data_close_price)\n",
    "'''\n",
    "#Self Made data in the form of n = x * average(n-k : n) + y * average(n - k : n)\n",
    "\n",
    "def generate_data(k, x, y, z):\n",
    "    data_date = np.arange(10000)\n",
    "    data = []\n",
    "    for i in range(k):\n",
    "        data += [float(random.randrange(0,100))]\n",
    "    print(data)\n",
    "    while len(data) < 10000:\n",
    "        temp_data_1 = data[len(data) - k:]\n",
    "        temp_data_2 = data[len(data) - 10:]\n",
    "        data += [x * np.mean(temp_data_1) + y * np.std(temp_data_1) + z * np.mean(temp_data_2)] \n",
    "    num_data_points = len(data)\n",
    "    display_date_range = \"from 0 to 9999\"\n",
    "    return data_date, data, num_data_points, display_date_range\n",
    "\n",
    "data_date, data_close_price, num_data_points, display_date_range = generate_data(30, 0.1, 2.25, 0.3)\n",
    "print(data_close_price)\n",
    "'''\n",
    "'''\n",
    "def generate_data():\n",
    "    data_date = np.arange(10000)\n",
    "    data = []\n",
    "    for i in range(10000):\n",
    "        data += [ np.cos(i) * np.sin(i) * (i % 100)]\n",
    "    num_data_points = len(data)\n",
    "    display_date_range = \"from 0 to 9999\"\n",
    "    return data_date, data, num_data_points, display_date_range\n",
    "\n",
    "def generate_random(k, config_rand):\n",
    "    rand = []\n",
    "    while len(rand) < 10000:\n",
    "        rand += [ config_rand[len(rand) % k] ]\n",
    "    data_date = np.arange(10000)\n",
    "    num_data_points = len(rand)\n",
    "    display_date_range = \"from 0 to 9999\"\n",
    "    return data_date, rand, num_data_points, display_date_range\n",
    "\n",
    "def generate_brownian_motion():\n",
    "    rand = np.random.normal(0, 1, 10000)\n",
    "    data_date = np.arange(10000)\n",
    "    num_data_points = len(rand)\n",
    "    display_date_range = \"from 0 to 9999\"\n",
    "    return data_date, rand, num_data_points, display_date_range\n",
    "\n",
    "\n",
    "data_date, data_close_price, num_data_points, display_date_range = generate_brownian_motion()\n",
    "'''\n",
    "\n",
    "# plot\n",
    "'''\n",
    "fig = figure(figsize=(40, 5), dpi=80)\n",
    "fig.patch.set_facecolor((1.0, 1.0, 1.0))\n",
    "plt.plot(data_date, data_close_price, color=config[\"plots\"][\"color_actual\"])\n",
    "xticks = [data_date[i] if ((i%config[\"plots\"][\"xticks_interval\"]==0 and (num_data_points-i) > config[\"plots\"][\"xticks_interval\"]) or i==num_data_points-1) else None for i in range(num_data_points)] # make x ticks nice\n",
    "x = np.arange(0,len(xticks))\n",
    "plt.xticks(x, xticks, rotation='vertical')\n",
    "plt.title(\"Daily close price for \" + config[\"alpha_vantage\"][\"symbol\"] + \", \" + display_date_range)\n",
    "plt.show()\n",
    "'''\n"
   ]
  },
  {
   "cell_type": "code",
   "execution_count": 57,
   "metadata": {},
   "outputs": [
    {
     "name": "stdout",
     "output_type": "stream",
     "text": [
      "[-1.00038075 -1.04172295 -1.05485884 ...  1.71164138  1.8109135\n",
      "  1.82054117]\n"
     ]
    },
    {
     "data": {
      "text/plain": [
       "'\\nfig = figure(figsize=(25, 5), dpi=80)\\nfig.patch.set_facecolor((1.0, 1.0, 1.0))\\nplt.plot(data_date, normalized_data_close_price, color=config[\"plots\"][\"color_actual\"])\\nxticks = [data_date[i] if ((i%config[\"plots\"][\"xticks_interval\"]==0 and (num_data_points-i) > config[\"plots\"][\"xticks_interval\"]) or i==num_data_points-1) else None for i in range(num_data_points)] # make x ticks nice\\nx = np.arange(0,len(xticks))\\nplt.xticks(x, xticks, rotation=\\'vertical\\')\\nplt.title(\"Daily close price for \" + config[\"alpha_vantage\"][\"symbol\"] + \", \" + display_date_range)\\nplt.show()\\n'"
      ]
     },
     "execution_count": 57,
     "metadata": {},
     "output_type": "execute_result"
    }
   ],
   "source": [
    "\n",
    "class Normalizer():\n",
    "    def __init__(self):\n",
    "        self.mu = None\n",
    "        self.sd = None\n",
    "\n",
    "    def fit_transform(self, x):\n",
    "        self.mu = np.mean(x, axis=(0), keepdims=True)\n",
    "        self.sd = np.std(x, axis=(0), keepdims=True)\n",
    "        normalized_x = (x - self.mu)/self.sd\n",
    "        return normalized_x\n",
    "    \n",
    "    def inverse_transform(self, x):\n",
    "        return (x*self.sd) + self.mu\n",
    "\n",
    "# normalize\n",
    "scaler = Normalizer()\n",
    "normalized_data_close_price = scaler.fit_transform(data_close_price)\n",
    "print(normalized_data_close_price)\n",
    "\n",
    "\"\"\"\n",
    "fig = figure(figsize=(25, 5), dpi=80)\n",
    "fig.patch.set_facecolor((1.0, 1.0, 1.0))\n",
    "plt.plot(data_date, normalized_data_close_price, color=config[\"plots\"][\"color_actual\"])\n",
    "xticks = [data_date[i] if ((i%config[\"plots\"][\"xticks_interval\"]==0 and (num_data_points-i) > config[\"plots\"][\"xticks_interval\"]) or i==num_data_points-1) else None for i in range(num_data_points)] # make x ticks nice\n",
    "x = np.arange(0,len(xticks))\n",
    "plt.xticks(x, xticks, rotation='vertical')\n",
    "plt.title(\"Daily close price for \" + config[\"alpha_vantage\"][\"symbol\"] + \", \" + display_date_range)\n",
    "plt.show()\n",
    "\"\"\"\n",
    "\n"
   ]
  },
  {
   "cell_type": "code",
   "execution_count": 58,
   "metadata": {},
   "outputs": [
    {
     "data": {
      "text/plain": [
       "'\\nfig = figure(figsize=(25, 5), dpi=80)\\nfig.patch.set_facecolor((1.0, 1.0, 1.0))\\nplt.plot(data_date, to_plot_data_y_train, label=\"Prices (train)\", color=config[\"plots\"][\"color_train\"])\\nplt.plot(data_date, to_plot_data_y_val, label=\"Prices (validation)\", color=config[\"plots\"][\"color_val\"])\\nxticks = [data_date[i] if ((i%config[\"plots\"][\"xticks_interval\"]==0 and (num_data_points-i) > config[\"plots\"][\"xticks_interval\"]) or i==num_data_points-1) else None for i in range(num_data_points)] # make x ticks nice\\nx = np.arange(0,len(xticks))\\nplt.xticks(x, xticks, rotation=\\'vertical\\')\\nplt.title(\"Daily close prices for \" + config[\"alpha_vantage\"][\"symbol\"] + \" - showing training and validation data\")\\nplt.legend()\\nplt.show()'"
      ]
     },
     "execution_count": 58,
     "metadata": {},
     "output_type": "execute_result"
    }
   ],
   "source": [
    "def prepare_data_x(x, window_size):\n",
    "    # perform windowing\n",
    "    n_row = x.shape[0] - window_size + 1\n",
    "    output = np.lib.stride_tricks.as_strided(x, shape=(n_row, window_size), strides=(x.strides[0], x.strides[0]))\n",
    "    return output[:-1], output[-1]\n",
    "\n",
    "\n",
    "def prepare_data_y(x, window_size):\n",
    "    # # perform simple moving average\n",
    "    # output = np.convolve(x, np.ones(window_size), 'valid') / window_size\n",
    "\n",
    "    # use the next day as label\n",
    "    output = x[window_size:]\n",
    "    return output\n",
    "\n",
    "data_x, data_x_unseen = prepare_data_x(normalized_data_close_price, window_size=config[\"data\"][\"window_size\"])\n",
    "data_y = prepare_data_y(normalized_data_close_price, window_size=config[\"data\"][\"window_size\"])\n",
    "\n",
    "# split dataset\n",
    "\n",
    "split_index = int(data_y.shape[0]*config[\"data\"][\"train_split_size\"])\n",
    "data_x_train = data_x[:split_index]\n",
    "data_x_val = data_x[split_index:]\n",
    "data_y_train = data_y[:split_index]\n",
    "data_y_val = data_y[split_index:]\n",
    "\n",
    "# prepare data for plotting\n",
    "\n",
    "to_plot_data_y_train = np.zeros(num_data_points)\n",
    "to_plot_data_y_val = np.zeros(num_data_points)\n",
    "\n",
    "to_plot_data_y_train[config[\"data\"][\"window_size\"]:split_index+config[\"data\"][\"window_size\"]] = scaler.inverse_transform(data_y_train)\n",
    "to_plot_data_y_val[split_index+config[\"data\"][\"window_size\"]:] = scaler.inverse_transform(data_y_val)\n",
    "\n",
    "to_plot_data_y_train = np.where(to_plot_data_y_train == 0, None, to_plot_data_y_train)\n",
    "to_plot_data_y_val = np.where(to_plot_data_y_val == 0, None, to_plot_data_y_val)\n",
    "\n",
    "\n",
    "## plots\n",
    "'''\n",
    "fig = figure(figsize=(25, 5), dpi=80)\n",
    "fig.patch.set_facecolor((1.0, 1.0, 1.0))\n",
    "plt.plot(data_date, to_plot_data_y_train, label=\"Prices (train)\", color=config[\"plots\"][\"color_train\"])\n",
    "plt.plot(data_date, to_plot_data_y_val, label=\"Prices (validation)\", color=config[\"plots\"][\"color_val\"])\n",
    "xticks = [data_date[i] if ((i%config[\"plots\"][\"xticks_interval\"]==0 and (num_data_points-i) > config[\"plots\"][\"xticks_interval\"]) or i==num_data_points-1) else None for i in range(num_data_points)] # make x ticks nice\n",
    "x = np.arange(0,len(xticks))\n",
    "plt.xticks(x, xticks, rotation='vertical')\n",
    "plt.title(\"Daily close prices for \" + config[\"alpha_vantage\"][\"symbol\"] + \" - showing training and validation data\")\n",
    "plt.legend()\n",
    "plt.show()'''\n"
   ]
  },
  {
   "cell_type": "code",
   "execution_count": 59,
   "metadata": {},
   "outputs": [
    {
     "name": "stdout",
     "output_type": "stream",
     "text": [
      "Train data shape (1553, 100, 1) (1553,)\n",
      "Validation data shape (173, 100, 1) (173,)\n"
     ]
    }
   ],
   "source": [
    "class TimeSeriesDataset(Dataset):\n",
    "    def __init__(self, x, y):\n",
    "        x = np.expand_dims(x, 2) # in our case, we have only 1 feature, so we need to convert `x` into [batch, sequence, features] for LSTM\n",
    "        self.x = x.astype(np.float32)\n",
    "        self.y = y.astype(np.float32)\n",
    "        \n",
    "    def __len__(self):\n",
    "        return len(self.x)\n",
    "\n",
    "    def __getitem__(self, idx):\n",
    "        return (self.x[idx], self.y[idx])\n",
    "\n",
    "dataset_train = TimeSeriesDataset(data_x_train, data_y_train)\n",
    "dataset_val = TimeSeriesDataset(data_x_val, data_y_val)\n",
    "\n",
    "print(\"Train data shape\", dataset_train.x.shape, dataset_train.y.shape)\n",
    "print(\"Validation data shape\", dataset_val.x.shape, dataset_val.y.shape)\n",
    "\n",
    "train_dataloader = DataLoader(dataset_train, batch_size=config[\"training\"][\"batch_size\"], shuffle=True)\n",
    "val_dataloader = DataLoader(dataset_val, batch_size=config[\"training\"][\"batch_size\"], shuffle=True)"
   ]
  },
  {
   "cell_type": "code",
   "execution_count": 60,
   "metadata": {},
   "outputs": [],
   "source": [
    "class LSTMModel(nn.Module):\n",
    "    def __init__(self, input_size=1, hidden_layer_size=32, num_layers=2, output_size=1, dropout=0.2):\n",
    "        super().__init__()\n",
    "        self.hidden_layer_size = hidden_layer_size\n",
    "\n",
    "        self.linear_1 = nn.Linear(input_size, hidden_layer_size)\n",
    "        self.relu = nn.ReLU()\n",
    "        self.lstm = nn.LSTM(hidden_layer_size, hidden_size=self.hidden_layer_size, num_layers=num_layers, batch_first=True)\n",
    "        self.dropout = nn.Dropout(dropout)\n",
    "        self.linear_2 = nn.Linear(num_layers*hidden_layer_size, output_size)\n",
    "        \n",
    "        self.init_weights()\n",
    "\n",
    "    def init_weights(self):\n",
    "        for name, param in self.lstm.named_parameters():\n",
    "            if 'bias' in name:\n",
    "                 nn.init.constant_(param, 0.0)\n",
    "            elif 'weight_ih' in name:\n",
    "                 nn.init.kaiming_normal_(param)\n",
    "            elif 'weight_hh' in name:\n",
    "                 nn.init.orthogonal_(param)\n",
    "\n",
    "    def forward(self, x):\n",
    "        batchsize = x.shape[0]\n",
    "\n",
    "        # layer 1\n",
    "        x = self.linear_1(x)\n",
    "        x = self.relu(x)\n",
    "        \n",
    "        # LSTM layer\n",
    "        lstm_out, (h_n, c_n) = self.lstm(x)\n",
    "\n",
    "        # reshape output from hidden cell into [batch, features] for `linear_2`\n",
    "        x = h_n.permute(1, 0, 2).reshape(batchsize, -1) \n",
    "        \n",
    "        # layer 2\n",
    "        x = self.dropout(x)\n",
    "        predictions = self.linear_2(x)\n",
    "        return predictions[:,-1]"
   ]
  },
  {
   "cell_type": "code",
   "execution_count": 61,
   "metadata": {},
   "outputs": [
    {
     "name": "stderr",
     "output_type": "stream",
     "text": [
      "  1%|          | 1/100 [00:00<01:03,  1.57it/s]"
     ]
    },
    {
     "name": "stdout",
     "output_type": "stream",
     "text": [
      "Epoch[1/100] | loss train:0.3100661879, test:0.1218971257 | lr:0.0001000000\n"
     ]
    },
    {
     "name": "stderr",
     "output_type": "stream",
     "text": [
      "  2%|▏         | 2/100 [00:01<01:02,  1.56it/s]"
     ]
    },
    {
     "name": "stdout",
     "output_type": "stream",
     "text": [
      "Epoch[2/100] | loss train:0.2575307210, test:0.1055510706 | lr:0.0001000000\n"
     ]
    },
    {
     "name": "stderr",
     "output_type": "stream",
     "text": [
      "  3%|▎         | 3/100 [00:01<01:03,  1.53it/s]"
     ]
    },
    {
     "name": "stdout",
     "output_type": "stream",
     "text": [
      "Epoch[3/100] | loss train:0.2028610737, test:0.0891102043 | lr:0.0001000000\n"
     ]
    },
    {
     "name": "stderr",
     "output_type": "stream",
     "text": [
      "  4%|▍         | 4/100 [00:02<01:01,  1.56it/s]"
     ]
    },
    {
     "name": "stdout",
     "output_type": "stream",
     "text": [
      "Epoch[4/100] | loss train:0.1415617468, test:0.0720269147 | lr:0.0001000000\n"
     ]
    },
    {
     "name": "stderr",
     "output_type": "stream",
     "text": [
      "  5%|▌         | 5/100 [00:03<01:00,  1.58it/s]"
     ]
    },
    {
     "name": "stdout",
     "output_type": "stream",
     "text": [
      "Epoch[5/100] | loss train:0.1049422186, test:0.0586442513 | lr:0.0001000000\n"
     ]
    },
    {
     "name": "stderr",
     "output_type": "stream",
     "text": [
      "  6%|▌         | 6/100 [00:03<00:59,  1.59it/s]"
     ]
    },
    {
     "name": "stdout",
     "output_type": "stream",
     "text": [
      "Epoch[6/100] | loss train:0.0684274729, test:0.0451175096 | lr:0.0001000000\n"
     ]
    },
    {
     "name": "stderr",
     "output_type": "stream",
     "text": [
      "  7%|▋         | 7/100 [00:04<00:58,  1.59it/s]"
     ]
    },
    {
     "name": "stdout",
     "output_type": "stream",
     "text": [
      "Epoch[7/100] | loss train:0.0421376612, test:0.0358247227 | lr:0.0001000000\n"
     ]
    },
    {
     "name": "stderr",
     "output_type": "stream",
     "text": [
      "  8%|▊         | 8/100 [00:05<00:57,  1.60it/s]"
     ]
    },
    {
     "name": "stdout",
     "output_type": "stream",
     "text": [
      "Epoch[8/100] | loss train:0.0310059876, test:0.0297891968 | lr:0.0001000000\n"
     ]
    },
    {
     "name": "stderr",
     "output_type": "stream",
     "text": [
      "  9%|▉         | 9/100 [00:05<00:56,  1.61it/s]"
     ]
    },
    {
     "name": "stdout",
     "output_type": "stream",
     "text": [
      "Epoch[9/100] | loss train:0.0216850500, test:0.0245781963 | lr:0.0001000000\n"
     ]
    },
    {
     "name": "stderr",
     "output_type": "stream",
     "text": [
      " 10%|█         | 10/100 [00:06<00:55,  1.61it/s]"
     ]
    },
    {
     "name": "stdout",
     "output_type": "stream",
     "text": [
      "Epoch[10/100] | loss train:0.0183450453, test:0.0213191243 | lr:0.0001000000\n"
     ]
    },
    {
     "name": "stderr",
     "output_type": "stream",
     "text": [
      " 11%|█         | 11/100 [00:06<00:55,  1.61it/s]"
     ]
    },
    {
     "name": "stdout",
     "output_type": "stream",
     "text": [
      "Epoch[11/100] | loss train:0.0144567126, test:0.0186164650 | lr:0.0001000000\n"
     ]
    },
    {
     "name": "stderr",
     "output_type": "stream",
     "text": [
      " 12%|█▏        | 12/100 [00:07<00:54,  1.61it/s]"
     ]
    },
    {
     "name": "stdout",
     "output_type": "stream",
     "text": [
      "Epoch[12/100] | loss train:0.0105334889, test:0.0155687898 | lr:0.0001000000\n"
     ]
    },
    {
     "name": "stderr",
     "output_type": "stream",
     "text": [
      " 13%|█▎        | 13/100 [00:08<00:54,  1.61it/s]"
     ]
    },
    {
     "name": "stdout",
     "output_type": "stream",
     "text": [
      "Epoch[13/100] | loss train:0.0091537667, test:0.0131440382 | lr:0.0001000000\n"
     ]
    },
    {
     "name": "stderr",
     "output_type": "stream",
     "text": [
      " 14%|█▍        | 14/100 [00:08<00:55,  1.56it/s]"
     ]
    },
    {
     "name": "stdout",
     "output_type": "stream",
     "text": [
      "Epoch[14/100] | loss train:0.0081347094, test:0.0101207041 | lr:0.0001000000\n"
     ]
    },
    {
     "name": "stderr",
     "output_type": "stream",
     "text": [
      " 15%|█▌        | 15/100 [00:09<00:54,  1.57it/s]"
     ]
    },
    {
     "name": "stdout",
     "output_type": "stream",
     "text": [
      "Epoch[15/100] | loss train:0.0059357004, test:0.0083634130 | lr:0.0001000000\n"
     ]
    },
    {
     "name": "stderr",
     "output_type": "stream",
     "text": [
      " 16%|█▌        | 16/100 [00:10<00:53,  1.58it/s]"
     ]
    },
    {
     "name": "stdout",
     "output_type": "stream",
     "text": [
      "Epoch[16/100] | loss train:0.0050215153, test:0.0060479167 | lr:0.0001000000\n"
     ]
    },
    {
     "name": "stderr",
     "output_type": "stream",
     "text": [
      " 17%|█▋        | 17/100 [00:10<00:52,  1.58it/s]"
     ]
    },
    {
     "name": "stdout",
     "output_type": "stream",
     "text": [
      "Epoch[17/100] | loss train:0.0041015889, test:0.0049902944 | lr:0.0001000000\n"
     ]
    },
    {
     "name": "stderr",
     "output_type": "stream",
     "text": [
      " 18%|█▊        | 18/100 [00:11<00:52,  1.56it/s]"
     ]
    },
    {
     "name": "stdout",
     "output_type": "stream",
     "text": [
      "Epoch[18/100] | loss train:0.0040655287, test:0.0043550547 | lr:0.0001000000\n"
     ]
    },
    {
     "name": "stderr",
     "output_type": "stream",
     "text": [
      " 19%|█▉        | 19/100 [00:12<00:51,  1.56it/s]"
     ]
    },
    {
     "name": "stdout",
     "output_type": "stream",
     "text": [
      "Epoch[19/100] | loss train:0.0039499426, test:0.0036648496 | lr:0.0001000000\n"
     ]
    },
    {
     "name": "stderr",
     "output_type": "stream",
     "text": [
      " 20%|██        | 20/100 [00:12<00:50,  1.58it/s]"
     ]
    },
    {
     "name": "stdout",
     "output_type": "stream",
     "text": [
      "Epoch[20/100] | loss train:0.0036878252, test:0.0032228492 | lr:0.0001000000\n"
     ]
    },
    {
     "name": "stderr",
     "output_type": "stream",
     "text": [
      " 21%|██        | 21/100 [00:13<00:49,  1.60it/s]"
     ]
    },
    {
     "name": "stdout",
     "output_type": "stream",
     "text": [
      "Epoch[21/100] | loss train:0.0034534558, test:0.0030028226 | lr:0.0001000000\n"
     ]
    },
    {
     "name": "stderr",
     "output_type": "stream",
     "text": [
      " 22%|██▏       | 22/100 [00:13<00:48,  1.60it/s]"
     ]
    },
    {
     "name": "stdout",
     "output_type": "stream",
     "text": [
      "Epoch[22/100] | loss train:0.0037602567, test:0.0027618320 | lr:0.0001000000\n"
     ]
    },
    {
     "name": "stderr",
     "output_type": "stream",
     "text": [
      " 23%|██▎       | 23/100 [00:14<00:47,  1.61it/s]"
     ]
    },
    {
     "name": "stdout",
     "output_type": "stream",
     "text": [
      "Epoch[23/100] | loss train:0.0033197964, test:0.0026953630 | lr:0.0001000000\n"
     ]
    },
    {
     "name": "stderr",
     "output_type": "stream",
     "text": [
      " 24%|██▍       | 24/100 [00:15<00:47,  1.61it/s]"
     ]
    },
    {
     "name": "stdout",
     "output_type": "stream",
     "text": [
      "Epoch[24/100] | loss train:0.0032029940, test:0.0022158392 | lr:0.0001000000\n"
     ]
    },
    {
     "name": "stderr",
     "output_type": "stream",
     "text": [
      " 25%|██▌       | 25/100 [00:15<00:46,  1.61it/s]"
     ]
    },
    {
     "name": "stdout",
     "output_type": "stream",
     "text": [
      "Epoch[25/100] | loss train:0.0032233349, test:0.0021779259 | lr:0.0001000000\n"
     ]
    },
    {
     "name": "stderr",
     "output_type": "stream",
     "text": [
      " 26%|██▌       | 26/100 [00:16<00:45,  1.62it/s]"
     ]
    },
    {
     "name": "stdout",
     "output_type": "stream",
     "text": [
      "Epoch[26/100] | loss train:0.0033002998, test:0.0021025454 | lr:0.0001000000\n"
     ]
    },
    {
     "name": "stderr",
     "output_type": "stream",
     "text": [
      " 27%|██▋       | 27/100 [00:16<00:44,  1.63it/s]"
     ]
    },
    {
     "name": "stdout",
     "output_type": "stream",
     "text": [
      "Epoch[27/100] | loss train:0.0031577604, test:0.0021337734 | lr:0.0001000000\n"
     ]
    },
    {
     "name": "stderr",
     "output_type": "stream",
     "text": [
      " 28%|██▊       | 28/100 [00:17<00:44,  1.62it/s]"
     ]
    },
    {
     "name": "stdout",
     "output_type": "stream",
     "text": [
      "Epoch[28/100] | loss train:0.0032846961, test:0.0021333222 | lr:0.0001000000\n"
     ]
    },
    {
     "name": "stderr",
     "output_type": "stream",
     "text": [
      " 29%|██▉       | 29/100 [00:18<00:43,  1.62it/s]"
     ]
    },
    {
     "name": "stdout",
     "output_type": "stream",
     "text": [
      "Epoch[29/100] | loss train:0.0031453341, test:0.0017123927 | lr:0.0001000000\n"
     ]
    },
    {
     "name": "stderr",
     "output_type": "stream",
     "text": [
      " 30%|███       | 30/100 [00:18<00:43,  1.62it/s]"
     ]
    },
    {
     "name": "stdout",
     "output_type": "stream",
     "text": [
      "Epoch[30/100] | loss train:0.0030504151, test:0.0014718555 | lr:0.0001000000\n"
     ]
    },
    {
     "name": "stderr",
     "output_type": "stream",
     "text": [
      " 31%|███       | 31/100 [00:19<00:42,  1.62it/s]"
     ]
    },
    {
     "name": "stdout",
     "output_type": "stream",
     "text": [
      "Epoch[31/100] | loss train:0.0026976263, test:0.0018331792 | lr:0.0001000000\n"
     ]
    },
    {
     "name": "stderr",
     "output_type": "stream",
     "text": [
      " 32%|███▏      | 32/100 [00:20<00:41,  1.62it/s]"
     ]
    },
    {
     "name": "stdout",
     "output_type": "stream",
     "text": [
      "Epoch[32/100] | loss train:0.0031761628, test:0.0015925801 | lr:0.0001000000\n"
     ]
    },
    {
     "name": "stderr",
     "output_type": "stream",
     "text": [
      " 33%|███▎      | 33/100 [00:20<00:41,  1.63it/s]"
     ]
    },
    {
     "name": "stdout",
     "output_type": "stream",
     "text": [
      "Epoch[33/100] | loss train:0.0029651370, test:0.0013946403 | lr:0.0001000000\n"
     ]
    },
    {
     "name": "stderr",
     "output_type": "stream",
     "text": [
      " 34%|███▍      | 34/100 [00:21<00:40,  1.63it/s]"
     ]
    },
    {
     "name": "stdout",
     "output_type": "stream",
     "text": [
      "Epoch[34/100] | loss train:0.0030399326, test:0.0015646461 | lr:0.0001000000\n"
     ]
    },
    {
     "name": "stderr",
     "output_type": "stream",
     "text": [
      " 35%|███▌      | 35/100 [00:21<00:40,  1.61it/s]"
     ]
    },
    {
     "name": "stdout",
     "output_type": "stream",
     "text": [
      "Epoch[35/100] | loss train:0.0026458327, test:0.0016497477 | lr:0.0001000000\n"
     ]
    },
    {
     "name": "stderr",
     "output_type": "stream",
     "text": [
      " 36%|███▌      | 36/100 [00:22<00:40,  1.59it/s]"
     ]
    },
    {
     "name": "stdout",
     "output_type": "stream",
     "text": [
      "Epoch[36/100] | loss train:0.0031120311, test:0.0017405350 | lr:0.0001000000\n"
     ]
    },
    {
     "name": "stderr",
     "output_type": "stream",
     "text": [
      " 37%|███▋      | 37/100 [00:23<00:39,  1.59it/s]"
     ]
    },
    {
     "name": "stdout",
     "output_type": "stream",
     "text": [
      "Epoch[37/100] | loss train:0.0027423916, test:0.0013698008 | lr:0.0001000000\n"
     ]
    },
    {
     "name": "stderr",
     "output_type": "stream",
     "text": [
      " 38%|███▊      | 38/100 [00:23<00:38,  1.61it/s]"
     ]
    },
    {
     "name": "stdout",
     "output_type": "stream",
     "text": [
      "Epoch[38/100] | loss train:0.0026242734, test:0.0015529390 | lr:0.0001000000\n"
     ]
    },
    {
     "name": "stderr",
     "output_type": "stream",
     "text": [
      " 39%|███▉      | 39/100 [00:24<00:37,  1.62it/s]"
     ]
    },
    {
     "name": "stdout",
     "output_type": "stream",
     "text": [
      "Epoch[39/100] | loss train:0.0023878259, test:0.0014997968 | lr:0.0001000000\n"
     ]
    },
    {
     "name": "stderr",
     "output_type": "stream",
     "text": [
      " 40%|████      | 40/100 [00:24<00:36,  1.62it/s]"
     ]
    },
    {
     "name": "stdout",
     "output_type": "stream",
     "text": [
      "Epoch[40/100] | loss train:0.0030063150, test:0.0013432693 | lr:0.0001000000\n"
     ]
    },
    {
     "name": "stderr",
     "output_type": "stream",
     "text": [
      " 41%|████      | 41/100 [00:25<00:36,  1.61it/s]"
     ]
    },
    {
     "name": "stdout",
     "output_type": "stream",
     "text": [
      "Epoch[41/100] | loss train:0.0024853283, test:0.0013014112 | lr:0.0001000000\n"
     ]
    },
    {
     "name": "stderr",
     "output_type": "stream",
     "text": [
      " 42%|████▏     | 42/100 [00:26<00:36,  1.61it/s]"
     ]
    },
    {
     "name": "stdout",
     "output_type": "stream",
     "text": [
      "Epoch[42/100] | loss train:0.0023214912, test:0.0013381999 | lr:0.0001000000\n"
     ]
    },
    {
     "name": "stderr",
     "output_type": "stream",
     "text": [
      " 43%|████▎     | 43/100 [00:26<00:35,  1.62it/s]"
     ]
    },
    {
     "name": "stdout",
     "output_type": "stream",
     "text": [
      "Epoch[43/100] | loss train:0.0025350996, test:0.0012593953 | lr:0.0001000000\n"
     ]
    },
    {
     "name": "stderr",
     "output_type": "stream",
     "text": [
      " 44%|████▍     | 44/100 [00:27<00:34,  1.62it/s]"
     ]
    },
    {
     "name": "stdout",
     "output_type": "stream",
     "text": [
      "Epoch[44/100] | loss train:0.0024593973, test:0.0012551792 | lr:0.0001000000\n"
     ]
    },
    {
     "name": "stderr",
     "output_type": "stream",
     "text": [
      " 45%|████▌     | 45/100 [00:28<00:33,  1.62it/s]"
     ]
    },
    {
     "name": "stdout",
     "output_type": "stream",
     "text": [
      "Epoch[45/100] | loss train:0.0026134881, test:0.0013573098 | lr:0.0001000000\n"
     ]
    },
    {
     "name": "stderr",
     "output_type": "stream",
     "text": [
      " 46%|████▌     | 46/100 [00:28<00:33,  1.62it/s]"
     ]
    },
    {
     "name": "stdout",
     "output_type": "stream",
     "text": [
      "Epoch[46/100] | loss train:0.0023450781, test:0.0011283541 | lr:0.0001000000\n"
     ]
    },
    {
     "name": "stderr",
     "output_type": "stream",
     "text": [
      " 47%|████▋     | 47/100 [00:29<00:32,  1.62it/s]"
     ]
    },
    {
     "name": "stdout",
     "output_type": "stream",
     "text": [
      "Epoch[47/100] | loss train:0.0021540608, test:0.0012335178 | lr:0.0001000000\n"
     ]
    },
    {
     "name": "stderr",
     "output_type": "stream",
     "text": [
      " 48%|████▊     | 48/100 [00:29<00:32,  1.61it/s]"
     ]
    },
    {
     "name": "stdout",
     "output_type": "stream",
     "text": [
      "Epoch[48/100] | loss train:0.0023364757, test:0.0013166263 | lr:0.0001000000\n"
     ]
    },
    {
     "name": "stderr",
     "output_type": "stream",
     "text": [
      " 49%|████▉     | 49/100 [00:30<00:31,  1.61it/s]"
     ]
    },
    {
     "name": "stdout",
     "output_type": "stream",
     "text": [
      "Epoch[49/100] | loss train:0.0021454201, test:0.0012074971 | lr:0.0001000000\n"
     ]
    },
    {
     "name": "stderr",
     "output_type": "stream",
     "text": [
      " 50%|█████     | 50/100 [00:31<00:31,  1.61it/s]"
     ]
    },
    {
     "name": "stdout",
     "output_type": "stream",
     "text": [
      "Epoch[50/100] | loss train:0.0021704455, test:0.0011786338 | lr:0.0001000000\n"
     ]
    },
    {
     "name": "stderr",
     "output_type": "stream",
     "text": [
      " 51%|█████     | 51/100 [00:31<00:30,  1.61it/s]"
     ]
    },
    {
     "name": "stdout",
     "output_type": "stream",
     "text": [
      "Epoch[51/100] | loss train:0.0021990444, test:0.0012203577 | lr:0.0001000000\n"
     ]
    },
    {
     "name": "stderr",
     "output_type": "stream",
     "text": [
      " 52%|█████▏    | 52/100 [00:32<00:30,  1.59it/s]"
     ]
    },
    {
     "name": "stdout",
     "output_type": "stream",
     "text": [
      "Epoch[52/100] | loss train:0.0021708388, test:0.0010875180 | lr:0.0001000000\n"
     ]
    },
    {
     "name": "stderr",
     "output_type": "stream",
     "text": [
      " 53%|█████▎    | 53/100 [00:33<00:29,  1.59it/s]"
     ]
    },
    {
     "name": "stdout",
     "output_type": "stream",
     "text": [
      "Epoch[53/100] | loss train:0.0024277641, test:0.0009151646 | lr:0.0001000000\n"
     ]
    },
    {
     "name": "stderr",
     "output_type": "stream",
     "text": [
      " 54%|█████▍    | 54/100 [00:33<00:29,  1.57it/s]"
     ]
    },
    {
     "name": "stdout",
     "output_type": "stream",
     "text": [
      "Epoch[54/100] | loss train:0.0021087186, test:0.0009634053 | lr:0.0001000000\n"
     ]
    },
    {
     "name": "stderr",
     "output_type": "stream",
     "text": [
      " 55%|█████▌    | 55/100 [00:34<00:28,  1.58it/s]"
     ]
    },
    {
     "name": "stdout",
     "output_type": "stream",
     "text": [
      "Epoch[55/100] | loss train:0.0030127241, test:0.0009070454 | lr:0.0001000000\n"
     ]
    },
    {
     "name": "stderr",
     "output_type": "stream",
     "text": [
      " 56%|█████▌    | 56/100 [00:34<00:27,  1.58it/s]"
     ]
    },
    {
     "name": "stdout",
     "output_type": "stream",
     "text": [
      "Epoch[56/100] | loss train:0.0023202334, test:0.0010114305 | lr:0.0001000000\n"
     ]
    },
    {
     "name": "stderr",
     "output_type": "stream",
     "text": [
      " 57%|█████▋    | 57/100 [00:35<00:27,  1.59it/s]"
     ]
    },
    {
     "name": "stdout",
     "output_type": "stream",
     "text": [
      "Epoch[57/100] | loss train:0.0021919119, test:0.0010327788 | lr:0.0001000000\n"
     ]
    },
    {
     "name": "stderr",
     "output_type": "stream",
     "text": [
      " 58%|█████▊    | 58/100 [00:36<00:26,  1.60it/s]"
     ]
    },
    {
     "name": "stdout",
     "output_type": "stream",
     "text": [
      "Epoch[58/100] | loss train:0.0021119431, test:0.0010355484 | lr:0.0001000000\n"
     ]
    },
    {
     "name": "stderr",
     "output_type": "stream",
     "text": [
      " 59%|█████▉    | 59/100 [00:36<00:25,  1.61it/s]"
     ]
    },
    {
     "name": "stdout",
     "output_type": "stream",
     "text": [
      "Epoch[59/100] | loss train:0.0019526334, test:0.0010831290 | lr:0.0001000000\n"
     ]
    },
    {
     "name": "stderr",
     "output_type": "stream",
     "text": [
      " 60%|██████    | 60/100 [00:37<00:24,  1.62it/s]"
     ]
    },
    {
     "name": "stdout",
     "output_type": "stream",
     "text": [
      "Epoch[60/100] | loss train:0.0022405153, test:0.0010582553 | lr:0.0001000000\n"
     ]
    },
    {
     "name": "stderr",
     "output_type": "stream",
     "text": [
      " 61%|██████    | 61/100 [00:38<00:23,  1.63it/s]"
     ]
    },
    {
     "name": "stdout",
     "output_type": "stream",
     "text": [
      "Epoch[61/100] | loss train:0.0019518304, test:0.0009126453 | lr:0.0001000000\n"
     ]
    },
    {
     "name": "stderr",
     "output_type": "stream",
     "text": [
      " 62%|██████▏   | 62/100 [00:38<00:23,  1.63it/s]"
     ]
    },
    {
     "name": "stdout",
     "output_type": "stream",
     "text": [
      "Epoch[62/100] | loss train:0.0020102365, test:0.0009582214 | lr:0.0001000000\n"
     ]
    },
    {
     "name": "stderr",
     "output_type": "stream",
     "text": [
      " 63%|██████▎   | 63/100 [00:39<00:22,  1.64it/s]"
     ]
    },
    {
     "name": "stdout",
     "output_type": "stream",
     "text": [
      "Epoch[63/100] | loss train:0.0019866925, test:0.0009816623 | lr:0.0001000000\n"
     ]
    },
    {
     "name": "stderr",
     "output_type": "stream",
     "text": [
      " 64%|██████▍   | 64/100 [00:39<00:22,  1.63it/s]"
     ]
    },
    {
     "name": "stdout",
     "output_type": "stream",
     "text": [
      "Epoch[64/100] | loss train:0.0020222172, test:0.0008668779 | lr:0.0001000000\n"
     ]
    },
    {
     "name": "stderr",
     "output_type": "stream",
     "text": [
      " 65%|██████▌   | 65/100 [00:40<00:21,  1.63it/s]"
     ]
    },
    {
     "name": "stdout",
     "output_type": "stream",
     "text": [
      "Epoch[65/100] | loss train:0.0021124759, test:0.0008636866 | lr:0.0001000000\n"
     ]
    },
    {
     "name": "stderr",
     "output_type": "stream",
     "text": [
      " 66%|██████▌   | 66/100 [00:41<00:20,  1.64it/s]"
     ]
    },
    {
     "name": "stdout",
     "output_type": "stream",
     "text": [
      "Epoch[66/100] | loss train:0.0019485956, test:0.0010766625 | lr:0.0001000000\n"
     ]
    },
    {
     "name": "stderr",
     "output_type": "stream",
     "text": [
      " 67%|██████▋   | 67/100 [00:41<00:20,  1.64it/s]"
     ]
    },
    {
     "name": "stdout",
     "output_type": "stream",
     "text": [
      "Epoch[67/100] | loss train:0.0024726985, test:0.0009495567 | lr:0.0001000000\n"
     ]
    },
    {
     "name": "stderr",
     "output_type": "stream",
     "text": [
      " 68%|██████▊   | 68/100 [00:42<00:19,  1.64it/s]"
     ]
    },
    {
     "name": "stdout",
     "output_type": "stream",
     "text": [
      "Epoch[68/100] | loss train:0.0019539137, test:0.0008565997 | lr:0.0001000000\n"
     ]
    },
    {
     "name": "stderr",
     "output_type": "stream",
     "text": [
      " 69%|██████▉   | 69/100 [00:42<00:18,  1.64it/s]"
     ]
    },
    {
     "name": "stdout",
     "output_type": "stream",
     "text": [
      "Epoch[69/100] | loss train:0.0019496793, test:0.0009776043 | lr:0.0001000000\n"
     ]
    },
    {
     "name": "stderr",
     "output_type": "stream",
     "text": [
      " 70%|███████   | 70/100 [00:43<00:18,  1.63it/s]"
     ]
    },
    {
     "name": "stdout",
     "output_type": "stream",
     "text": [
      "Epoch[70/100] | loss train:0.0018146702, test:0.0009623646 | lr:0.0001000000\n"
     ]
    },
    {
     "name": "stderr",
     "output_type": "stream",
     "text": [
      " 71%|███████   | 71/100 [00:44<00:17,  1.63it/s]"
     ]
    },
    {
     "name": "stdout",
     "output_type": "stream",
     "text": [
      "Epoch[71/100] | loss train:0.0019209871, test:0.0007794406 | lr:0.0001000000\n"
     ]
    },
    {
     "name": "stderr",
     "output_type": "stream",
     "text": [
      " 72%|███████▏  | 72/100 [00:44<00:17,  1.60it/s]"
     ]
    },
    {
     "name": "stdout",
     "output_type": "stream",
     "text": [
      "Epoch[72/100] | loss train:0.0018509316, test:0.0009254364 | lr:0.0001000000\n"
     ]
    },
    {
     "name": "stderr",
     "output_type": "stream",
     "text": [
      " 73%|███████▎  | 73/100 [00:45<00:16,  1.60it/s]"
     ]
    },
    {
     "name": "stdout",
     "output_type": "stream",
     "text": [
      "Epoch[73/100] | loss train:0.0022786478, test:0.0008145632 | lr:0.0001000000\n"
     ]
    },
    {
     "name": "stderr",
     "output_type": "stream",
     "text": [
      " 74%|███████▍  | 74/100 [00:46<00:16,  1.60it/s]"
     ]
    },
    {
     "name": "stdout",
     "output_type": "stream",
     "text": [
      "Epoch[74/100] | loss train:0.0021273654, test:0.0007782280 | lr:0.0001000000\n"
     ]
    },
    {
     "name": "stderr",
     "output_type": "stream",
     "text": [
      " 75%|███████▌  | 75/100 [00:46<00:15,  1.60it/s]"
     ]
    },
    {
     "name": "stdout",
     "output_type": "stream",
     "text": [
      "Epoch[75/100] | loss train:0.0018744052, test:0.0008826292 | lr:0.0001000000\n"
     ]
    },
    {
     "name": "stderr",
     "output_type": "stream",
     "text": [
      " 76%|███████▌  | 76/100 [00:47<00:15,  1.59it/s]"
     ]
    },
    {
     "name": "stdout",
     "output_type": "stream",
     "text": [
      "Epoch[76/100] | loss train:0.0018594092, test:0.0009522728 | lr:0.0001000000\n"
     ]
    },
    {
     "name": "stderr",
     "output_type": "stream",
     "text": [
      " 77%|███████▋  | 77/100 [00:47<00:14,  1.60it/s]"
     ]
    },
    {
     "name": "stdout",
     "output_type": "stream",
     "text": [
      "Epoch[77/100] | loss train:0.0017725682, test:0.0007420892 | lr:0.0001000000\n"
     ]
    },
    {
     "name": "stderr",
     "output_type": "stream",
     "text": [
      " 78%|███████▊  | 78/100 [00:48<00:13,  1.61it/s]"
     ]
    },
    {
     "name": "stdout",
     "output_type": "stream",
     "text": [
      "Epoch[78/100] | loss train:0.0018193689, test:0.0009776676 | lr:0.0001000000\n"
     ]
    },
    {
     "name": "stderr",
     "output_type": "stream",
     "text": [
      " 79%|███████▉  | 79/100 [00:49<00:13,  1.60it/s]"
     ]
    },
    {
     "name": "stdout",
     "output_type": "stream",
     "text": [
      "Epoch[79/100] | loss train:0.0019523668, test:0.0007328523 | lr:0.0001000000\n"
     ]
    },
    {
     "name": "stderr",
     "output_type": "stream",
     "text": [
      " 80%|████████  | 80/100 [00:49<00:12,  1.60it/s]"
     ]
    },
    {
     "name": "stdout",
     "output_type": "stream",
     "text": [
      "Epoch[80/100] | loss train:0.0019995618, test:0.0008050318 | lr:0.0001000000\n"
     ]
    },
    {
     "name": "stderr",
     "output_type": "stream",
     "text": [
      " 81%|████████  | 81/100 [00:50<00:11,  1.61it/s]"
     ]
    },
    {
     "name": "stdout",
     "output_type": "stream",
     "text": [
      "Epoch[81/100] | loss train:0.0018941683, test:0.0007850551 | lr:0.0001000000\n"
     ]
    },
    {
     "name": "stderr",
     "output_type": "stream",
     "text": [
      " 82%|████████▏ | 82/100 [00:51<00:11,  1.62it/s]"
     ]
    },
    {
     "name": "stdout",
     "output_type": "stream",
     "text": [
      "Epoch[82/100] | loss train:0.0024083814, test:0.0007976499 | lr:0.0001000000\n"
     ]
    },
    {
     "name": "stderr",
     "output_type": "stream",
     "text": [
      " 83%|████████▎ | 83/100 [00:51<00:10,  1.62it/s]"
     ]
    },
    {
     "name": "stdout",
     "output_type": "stream",
     "text": [
      "Epoch[83/100] | loss train:0.0017759642, test:0.0009435256 | lr:0.0001000000\n"
     ]
    },
    {
     "name": "stderr",
     "output_type": "stream",
     "text": [
      " 84%|████████▍ | 84/100 [00:52<00:09,  1.62it/s]"
     ]
    },
    {
     "name": "stdout",
     "output_type": "stream",
     "text": [
      "Epoch[84/100] | loss train:0.0022518636, test:0.0008847443 | lr:0.0001000000\n"
     ]
    },
    {
     "name": "stderr",
     "output_type": "stream",
     "text": [
      " 85%|████████▌ | 85/100 [00:52<00:09,  1.62it/s]"
     ]
    },
    {
     "name": "stdout",
     "output_type": "stream",
     "text": [
      "Epoch[85/100] | loss train:0.0018359015, test:0.0007868909 | lr:0.0001000000\n"
     ]
    },
    {
     "name": "stderr",
     "output_type": "stream",
     "text": [
      " 86%|████████▌ | 86/100 [00:53<00:08,  1.62it/s]"
     ]
    },
    {
     "name": "stdout",
     "output_type": "stream",
     "text": [
      "Epoch[86/100] | loss train:0.0017920199, test:0.0006745644 | lr:0.0001000000\n"
     ]
    },
    {
     "name": "stderr",
     "output_type": "stream",
     "text": [
      " 87%|████████▋ | 87/100 [00:54<00:08,  1.61it/s]"
     ]
    },
    {
     "name": "stdout",
     "output_type": "stream",
     "text": [
      "Epoch[87/100] | loss train:0.0021215840, test:0.0008067649 | lr:0.0001000000\n"
     ]
    },
    {
     "name": "stderr",
     "output_type": "stream",
     "text": [
      " 88%|████████▊ | 88/100 [00:54<00:07,  1.60it/s]"
     ]
    },
    {
     "name": "stdout",
     "output_type": "stream",
     "text": [
      "Epoch[88/100] | loss train:0.0018490947, test:0.0009067508 | lr:0.0001000000\n"
     ]
    },
    {
     "name": "stderr",
     "output_type": "stream",
     "text": [
      " 89%|████████▉ | 89/100 [00:55<00:06,  1.60it/s]"
     ]
    },
    {
     "name": "stdout",
     "output_type": "stream",
     "text": [
      "Epoch[89/100] | loss train:0.0024636870, test:0.0008762298 | lr:0.0001000000\n"
     ]
    },
    {
     "name": "stderr",
     "output_type": "stream",
     "text": [
      " 90%|█████████ | 90/100 [00:56<00:06,  1.59it/s]"
     ]
    },
    {
     "name": "stdout",
     "output_type": "stream",
     "text": [
      "Epoch[90/100] | loss train:0.0017872431, test:0.0009760269 | lr:0.0001000000\n"
     ]
    },
    {
     "name": "stderr",
     "output_type": "stream",
     "text": [
      " 91%|█████████ | 91/100 [00:56<00:05,  1.60it/s]"
     ]
    },
    {
     "name": "stdout",
     "output_type": "stream",
     "text": [
      "Epoch[91/100] | loss train:0.0017805103, test:0.0008008610 | lr:0.0001000000\n"
     ]
    },
    {
     "name": "stderr",
     "output_type": "stream",
     "text": [
      " 92%|█████████▏| 92/100 [00:57<00:04,  1.61it/s]"
     ]
    },
    {
     "name": "stdout",
     "output_type": "stream",
     "text": [
      "Epoch[92/100] | loss train:0.0017994525, test:0.0009035378 | lr:0.0001000000\n"
     ]
    },
    {
     "name": "stderr",
     "output_type": "stream",
     "text": [
      " 93%|█████████▎| 93/100 [00:57<00:04,  1.60it/s]"
     ]
    },
    {
     "name": "stdout",
     "output_type": "stream",
     "text": [
      "Epoch[93/100] | loss train:0.0018837209, test:0.0007396667 | lr:0.0001000000\n"
     ]
    },
    {
     "name": "stderr",
     "output_type": "stream",
     "text": [
      " 94%|█████████▍| 94/100 [00:58<00:03,  1.61it/s]"
     ]
    },
    {
     "name": "stdout",
     "output_type": "stream",
     "text": [
      "Epoch[94/100] | loss train:0.0017578792, test:0.0008768560 | lr:0.0001000000\n"
     ]
    },
    {
     "name": "stderr",
     "output_type": "stream",
     "text": [
      " 95%|█████████▌| 95/100 [00:59<00:03,  1.60it/s]"
     ]
    },
    {
     "name": "stdout",
     "output_type": "stream",
     "text": [
      "Epoch[95/100] | loss train:0.0017143524, test:0.0008137576 | lr:0.0001000000\n"
     ]
    },
    {
     "name": "stderr",
     "output_type": "stream",
     "text": [
      " 96%|█████████▌| 96/100 [00:59<00:02,  1.61it/s]"
     ]
    },
    {
     "name": "stdout",
     "output_type": "stream",
     "text": [
      "Epoch[96/100] | loss train:0.0018577249, test:0.0007509559 | lr:0.0001000000\n"
     ]
    },
    {
     "name": "stderr",
     "output_type": "stream",
     "text": [
      " 97%|█████████▋| 97/100 [01:00<00:01,  1.61it/s]"
     ]
    },
    {
     "name": "stdout",
     "output_type": "stream",
     "text": [
      "Epoch[97/100] | loss train:0.0016661966, test:0.0008090290 | lr:0.0001000000\n"
     ]
    },
    {
     "name": "stderr",
     "output_type": "stream",
     "text": [
      " 98%|█████████▊| 98/100 [01:01<00:01,  1.60it/s]"
     ]
    },
    {
     "name": "stdout",
     "output_type": "stream",
     "text": [
      "Epoch[98/100] | loss train:0.0016501034, test:0.0007910201 | lr:0.0001000000\n"
     ]
    },
    {
     "name": "stderr",
     "output_type": "stream",
     "text": [
      " 99%|█████████▉| 99/100 [01:01<00:00,  1.62it/s]"
     ]
    },
    {
     "name": "stdout",
     "output_type": "stream",
     "text": [
      "Epoch[99/100] | loss train:0.0022216277, test:0.0007208094 | lr:0.0001000000\n"
     ]
    },
    {
     "name": "stderr",
     "output_type": "stream",
     "text": [
      "100%|██████████| 100/100 [01:02<00:00,  1.61it/s]"
     ]
    },
    {
     "name": "stdout",
     "output_type": "stream",
     "text": [
      "Epoch[100/100] | loss train:0.0018071245, test:0.0008159163 | lr:0.0001000000\n",
      "[0.31006618786384077, 0.12189712565806177, 0.0032233349426379018, 0.0021779258502647282, 0.002170445502141614, 0.0011786338329936067, 0.0018744051960632479, 0.0008826291738336699, 0.001807124492723447, 0.0008159162787099679]\n"
     ]
    },
    {
     "name": "stderr",
     "output_type": "stream",
     "text": [
      "\n"
     ]
    }
   ],
   "source": [
    "def run_epoch(dataloader, is_training=False):\n",
    "    epoch_loss = 0\n",
    "\n",
    "    if is_training:\n",
    "        model.train()\n",
    "    else:\n",
    "        model.eval()\n",
    "\n",
    "    for idx, (x, y) in enumerate(dataloader):\n",
    "        if is_training:\n",
    "            optimizer.zero_grad()\n",
    "\n",
    "        batchsize = x.shape[0]\n",
    "\n",
    "        x = x.to(config[\"training\"][\"device\"])\n",
    "        y = y.to(config[\"training\"][\"device\"])\n",
    "\n",
    "        out = model(x)\n",
    "        loss = criterion(out.contiguous(), y.contiguous())\n",
    "\n",
    "        if is_training:\n",
    "            loss.backward()\n",
    "            optimizer.step()\n",
    "\n",
    "        epoch_loss += (loss.detach().item() / batchsize)\n",
    "\n",
    "    lr = scheduler.get_last_lr()[0]\n",
    "\n",
    "    return epoch_loss, lr\n",
    "\n",
    "train_dataloader = DataLoader(dataset_train, batch_size=config[\"training\"][\"batch_size\"], shuffle=True)\n",
    "val_dataloader = DataLoader(dataset_val, batch_size=config[\"training\"][\"batch_size\"], shuffle=True)\n",
    "\n",
    "model = LSTMModel(input_size=config[\"model\"][\"input_size\"], hidden_layer_size=config[\"model\"][\"lstm_size\"], num_layers=config[\"model\"][\"num_lstm_layers\"], output_size=1, dropout=config[\"model\"][\"dropout\"])\n",
    "model = model.to(config[\"training\"][\"device\"])\n",
    "\n",
    "criterion = nn.MSELoss()\n",
    "optimizer = optim.Adam(model.parameters(), lr=config[\"training\"][\"learning_rate\"], betas=(0.9, 0.98), eps=1e-9)\n",
    "scheduler = optim.lr_scheduler.StepLR(optimizer, step_size=config[\"training\"][\"scheduler_step_size\"], gamma=0.1)\n",
    "\n",
    "loss_list_25th = []\n",
    "loss_train_list = []\n",
    "loss_val_list = []\n",
    "for epoch in tqdm(range(config[\"training\"][\"num_epoch\"])):\n",
    "    loss_train, lr_train = run_epoch(train_dataloader, is_training=True)\n",
    "    loss_val, lr_val = run_epoch(val_dataloader)\n",
    "    optimizer.step()\n",
    "    #scheduler.step()\n",
    "    print('Epoch[{}/{}] | loss train:{:.10f}, test:{:.10f} | lr:{:.10f}'\n",
    "                .format(epoch+1, config[\"training\"][\"num_epoch\"], loss_train, loss_val, lr_train))\n",
    "    loss_train_list += [loss_train]\n",
    "    loss_val_list += [loss_val]\n",
    "    if ((epoch+1) % 25) == 0 or epoch == 0: \n",
    "        loss_list_25th += [loss_train]\n",
    "        loss_list_25th += [loss_val]\n",
    "print(loss_list_25th)\n"
   ]
  },
  {
   "cell_type": "code",
   "execution_count": 66,
   "metadata": {},
   "outputs": [
    {
     "data": {
      "image/png": "[encoded data removed]",
      "text/plain": [
       "<Figure size 2000x800 with 1 Axes>"
      ]
     },
     "metadata": {},
     "output_type": "display_data"
    }
   ],
   "source": [
    "epoch_list = np.arange(config[\"training\"][\"num_epoch\"])\n",
    "\n",
    "fig = figure(figsize=(25, 10), dpi=80)\n",
    "fig.patch.set_facecolor((1.0, 1.0, 1.0))\n",
    "plt.plot(epoch_list, loss_train_list, label=\"Training Loss\", color=config[\"plots\"][\"color_pred_train\"])\n",
    "plt.plot(epoch_list, loss_val_list, label=\"Validation Loss\", color=config[\"plots\"][\"color_pred_val\"])\n",
    "plt.title(\"Compare Training Loss and Validation Loss\")\n",
    "plt.legend()\n",
    "plt.show()"
   ]
  },
  {
   "cell_type": "code",
   "execution_count": 67,
   "metadata": {},
   "outputs": [
    {
     "data": {
      "image/png": "[encoded data removed]",
      "text/plain": [
       "<Figure size 2000x400 with 1 Axes>"
      ]
     },
     "metadata": {},
     "output_type": "display_data"
    }
   ],
   "source": [
    "# here we re-initialize dataloader so the data doesn't shuffled, so we can plot the values by date\n",
    "\n",
    "train_dataloader = DataLoader(dataset_train, batch_size=config[\"training\"][\"batch_size\"], shuffle=False)\n",
    "val_dataloader = DataLoader(dataset_val, batch_size=config[\"training\"][\"batch_size\"], shuffle=False)\n",
    "\n",
    "model.eval()\n",
    "\n",
    "# predict on the training data, to see how well the model managed to learn and memorize\n",
    "\n",
    "predicted_train = np.array([])\n",
    "\n",
    "for idx, (x, y) in enumerate(train_dataloader):\n",
    "    x = x.to(config[\"training\"][\"device\"])\n",
    "    out = model(x)\n",
    "    out = out.cpu().detach().numpy()\n",
    "    predicted_train = np.concatenate((predicted_train, out))\n",
    "\n",
    "# predict on the validation data, to see how the model does\n",
    "\n",
    "predicted_val = np.array([])\n",
    "\n",
    "for idx, (x, y) in enumerate(val_dataloader):\n",
    "    x = x.to(config[\"training\"][\"device\"])\n",
    "    out = model(x)\n",
    "    out = out.cpu().detach().numpy()\n",
    "    predicted_val = np.concatenate((predicted_val, out))\n",
    "\n",
    "# prepare data for plotting\n",
    "\n",
    "to_plot_data_y_train_pred = np.zeros(num_data_points)\n",
    "to_plot_data_y_val_pred = np.zeros(num_data_points)\n",
    "\n",
    "to_plot_data_y_train_pred[config[\"data\"][\"window_size\"]:split_index+config[\"data\"][\"window_size\"]] = scaler.inverse_transform(predicted_train)\n",
    "to_plot_data_y_val_pred[split_index+config[\"data\"][\"window_size\"]:] = scaler.inverse_transform(predicted_val)\n",
    "\n",
    "to_plot_data_y_train_pred = np.where(to_plot_data_y_train_pred == 0, None, to_plot_data_y_train_pred)\n",
    "to_plot_data_y_val_pred = np.where(to_plot_data_y_val_pred == 0, None, to_plot_data_y_val_pred)\n",
    "\n",
    "# plots\n",
    "\n",
    "fig = figure(figsize=(25, 5), dpi=80)\n",
    "fig.patch.set_facecolor((1.0, 1.0, 1.0))\n",
    "plt.plot(data_date, data_close_price, label=\"Actual prices\", color=config[\"plots\"][\"color_actual\"])\n",
    "plt.plot(data_date, to_plot_data_y_train_pred, label=\"Predicted prices (train)\", color=config[\"plots\"][\"color_pred_train\"])\n",
    "plt.plot(data_date, to_plot_data_y_val_pred, label=\"Predicted prices (validation)\", color=config[\"plots\"][\"color_pred_val\"])\n",
    "plt.title(\"Compare predicted prices to actual prices\")\n",
    "xticks = [data_date[i] if ((i%config[\"plots\"][\"xticks_interval\"]==0 and (num_data_points-i) > config[\"plots\"][\"xticks_interval\"]) or i==num_data_points-1) else None for i in range(num_data_points)] # make x ticks nice\n",
    "x = np.arange(0,len(xticks))\n",
    "plt.xticks(x, xticks, rotation='vertical')\n",
    "plt.legend()\n",
    "plt.show()"
   ]
  },
  {
   "cell_type": "code",
   "execution_count": 85,
   "metadata": {},
   "outputs": [
    {
     "data": {
      "text/plain": [
       "array([46368.585938, 42853.167969, 42842.382813, 41796.269531,\n",
       "       42511.96875 , 43154.945313, 42742.652344, 41262.058594,\n",
       "       41618.40625 , 41665.585938, 41545.785156, 39507.367188,\n",
       "       39845.550781, 40077.074219, 39933.808594, 41816.871094,\n",
       "       42120.054688, 42035.59375 , 43288.246094, 42952.609375,\n",
       "       42582.605469, 43075.773438, 43185.859375, 42992.25    ,\n",
       "       42583.582031, 42658.667969, 43084.671875, 44318.222656,\n",
       "       45301.566406, 47147.199219, 47771.277344, 48293.917969,\n",
       "       49958.222656, 49742.441406, 51826.695313, 51938.554688,\n",
       "       52160.203125, 51662.996094, 52122.546875, 51779.144531,\n",
       "       52284.875   , 51839.179688, 51304.972656, 50731.949219,\n",
       "       51571.101563, 51733.238281, 54522.402344, 57085.371094,\n",
       "       62504.789063, 61198.382813, 62440.632813, 62029.847656,\n",
       "       63167.371094, 68330.414063, 63801.199219, 66106.804688,\n",
       "       66925.484375, 68300.09375 , 68498.882813, 69019.789063,\n",
       "       72123.90625 , 71481.289063, 73083.5     , 71396.59375 ,\n",
       "       69403.773438, 65315.117188, 68390.625   , 67548.59375 ,\n",
       "       61912.773438, 67913.671875, 65491.390625, 63778.761719,\n",
       "       64062.203125, 67234.171875, 69958.8125  , 69987.835938,\n",
       "       69455.34375 , 70744.953125, 69892.828125, 69645.304688,\n",
       "       71333.648438, 69702.148438, 65446.972656, 65980.8125  ,\n",
       "       68508.84375 , 67837.640625, 68896.109375, 69362.554688,\n",
       "       71631.359375, 69139.015625, 70587.882813, 70060.609375,\n",
       "       67195.867188, 63821.472656, 65738.726563, 63426.210938,\n",
       "       63811.863281, 61276.691406, 63512.753906, 63843.570313,\n",
       "       64994.441406, 64926.644531, 66837.679688, 66407.273438,\n",
       "       64276.898438, 64481.707031, 63755.320313, 63419.140625,\n",
       "       63113.230469, 63841.121094, 60636.855469, 58254.011719,\n",
       "       59123.433594, 62889.835938, 63891.472656, 64031.132813,\n",
       "       63161.949219, 62334.816406, 61187.941406, 63049.960938,\n",
       "       60792.777344, 60793.710938, 61448.394531, 62901.449219,\n",
       "       61552.789063, 66267.492188, 65231.582031, 67051.875   ,\n",
       "       66940.804688, 66278.367188, 71448.195313, 70136.53125 ,\n",
       "       69122.335938, 67929.5625  , 68526.101563, 69265.945313,\n",
       "       68518.09375 , 69394.554688, 68296.21875 , 67578.09375 ,\n",
       "       68364.992188, 67491.414063, 67706.9375  , 67751.601563,\n",
       "       68804.78125 , 70567.765625, 71082.820313, 70757.164063,\n",
       "       69342.585938, 69305.773438, 69647.992188, 69512.28125 ,\n",
       "       67332.03125 , 68241.1875  , 66756.398438, 66011.09375 ,\n",
       "       66191.      , 66639.046875, 66490.296875, 65140.746094,\n",
       "       64960.296875, 64828.65625 , 64096.199219, 64252.578125,\n",
       "       63180.796875, 60277.414063, 61804.640625, 60811.277344,\n",
       "       61604.800781, 60320.136719, 60887.378906, 62678.292969,\n",
       "       62851.980469])"
      ]
     },
     "execution_count": 85,
     "metadata": {},
     "output_type": "execute_result"
    }
   ],
   "source": [
    "val = data_close_price[-173:]\n",
    "len(val)\n",
    "val"
   ]
  },
  {
   "cell_type": "code",
   "execution_count": 86,
   "metadata": {},
   "outputs": [
    {
     "data": {
      "text/plain": [
       "array([46838.04321231284, 46729.91479017434, 44049.24349162647,\n",
       "       43166.00277070172, 42125.94535306775, 42353.37881179931,\n",
       "       42934.15952787567, 42855.0124519734, 41762.15590763672,\n",
       "       41677.16460433782, 41694.479001677384, 41632.24416284856,\n",
       "       40188.13073431501, 39959.78327497865, 40057.27488066683,\n",
       "       40017.991134672164, 41350.20723269091, 42025.60206549256,\n",
       "       42188.61568630239, 43138.59350550576, 43186.79897269819,\n",
       "       42914.48808427053, 43165.70491403404, 43315.55907672428,\n",
       "       43216.100756793516, 42876.979650038855, 42815.59967059923,\n",
       "       43105.096996281776, 44100.421073726764, 45141.68712274874,\n",
       "       46870.4848573094, 47853.30433118578, 48483.16365385587,\n",
       "       49758.97086043033, 49972.30290277194, 51379.39715622109,\n",
       "       51849.58487441046, 52094.3778928644, 51790.93184265765,\n",
       "       51950.09053150485, 51737.33484719168, 51975.13629866626,\n",
       "       51735.55630954421, 51290.835874089295, 50755.745510599896,\n",
       "       51138.01497296532, 51365.2720833449, 53573.338400927394,\n",
       "       56215.85823893574, 60552.952402976225, 61134.067535744456,\n",
       "       62035.43987807895, 62021.069637981695, 62589.6790918865,\n",
       "       65080.251168172166, 63774.559367704955, 64525.15601968058,\n",
       "       65050.30850835864, 65763.71716396169, 66061.52221749452,\n",
       "       66374.04805723892, 67538.63536904097, 67671.92031370828,\n",
       "       68259.95604399717, 67931.4749795773, 67215.24690093214,\n",
       "       65387.028481759735, 66082.3227206703, 65858.50010197515,\n",
       "       63109.87877258132, 65120.38762296638, 64575.15722923775,\n",
       "       63636.4979634064, 63481.04474054058, 64850.135924136615,\n",
       "       66281.41785947348, 66742.97741195347, 66760.78429432478,\n",
       "       67255.2048567847, 67116.32837900562, 67019.19484649555,\n",
       "       67564.67900980386, 67163.508014931, 65403.949321191816,\n",
       "       65096.146176337206, 65957.62077932956, 65905.91200158364,\n",
       "       66322.83821629375, 66617.70556435324, 67492.66866568291,\n",
       "       66908.787874614, 67299.00806694644, 67215.64260942928,\n",
       "       66143.54785765451, 64313.42831722412, 64610.82690931152,\n",
       "       63483.85556122407, 63315.79128060155, 61807.33758596363,\n",
       "       62561.41819318582, 62922.226921350346, 63629.525751733956,\n",
       "       63834.70705927033, 64778.35784369877, 64888.03576568612,\n",
       "       63987.17956486964, 63824.24444058235, 63370.34528846549,\n",
       "       63033.010246422105, 62739.44830628524, 63015.25497820258,\n",
       "       61281.56572746396, 59165.41776246997, 58991.22000014177,\n",
       "       61188.739826039615, 62412.571581750526, 62934.296030513135,\n",
       "       62695.081641633005, 62190.15544869195, 61355.38471748761,\n",
       "       62128.87439637661, 61042.58360226694, 60702.18612055003,\n",
       "       60957.96004979963, 61860.64425182572, 61388.59842417152,\n",
       "       63710.26964045756, 63936.442853649314, 64882.575418543514,\n",
       "       65139.18377658056, 64976.95834688052, 66899.05860699952,\n",
       "       66984.74670134773, 66735.79014131517, 66246.62561998033,\n",
       "       66331.7416574794, 66607.43864932418, 66406.6897070737,\n",
       "       66685.48354802653, 66353.29486703561, 65990.98502728954,\n",
       "       66182.1982549948, 65876.95646242332, 65877.67045818988,\n",
       "       65883.33081017072, 66287.41370344104, 67029.7413381802,\n",
       "       67424.6283100713, 67466.71965086498, 67024.91971616614,\n",
       "       66900.45218909816, 66970.8667956926, 66931.75617216542,\n",
       "       66098.68655738086, 66211.43767199003, 65611.75004693208,\n",
       "       65110.75728247619, 65010.090331157415, 65141.77093593958,\n",
       "       65104.496915980664, 64500.44144332656, 64233.49305021206,\n",
       "       64065.94491110755, 63632.17957937239, 63563.71340700843,\n",
       "       62963.39996035989, 61082.46843807112, 61358.80415504442,\n",
       "       60791.20332768939, 61081.36088439706, 60382.36333009477,\n",
       "       60514.16006671849, 61593.11519950346], dtype=object)"
      ]
     },
     "execution_count": 86,
     "metadata": {},
     "output_type": "execute_result"
    }
   ],
   "source": [
    "a = to_plot_data_y_val_pred[to_plot_data_y_val_pred != np.array(None)]\n",
    "a"
   ]
  },
  {
   "cell_type": "code",
   "execution_count": 87,
   "metadata": {},
   "outputs": [
    {
     "data": {
      "text/plain": [
       "5011815.182869962"
      ]
     },
     "execution_count": 87,
     "metadata": {},
     "output_type": "execute_result"
    }
   ],
   "source": [
    "from sklearn.metrics import mean_squared_error\n",
    "\n",
    "mean_squared_error(val,a)"
   ]
  },
  {
   "cell_type": "code",
   "execution_count": 64,
   "metadata": {},
   "outputs": [
    {
     "data": {
      "text/plain": [
       "'\\n# prepare data for plotting the zoomed in view of the predicted prices (on validation set) vs. actual prices\\n\\nto_plot_data_y_val_subset = scaler.inverse_transform(data_y_val)\\nto_plot_predicted_val = scaler.inverse_transform(predicted_val)\\nto_plot_data_date = data_date[split_index+config[\"data\"][\"window_size\"]:]\\n\\n# plots\\n\\nfig = figure(figsize=(25, 5), dpi=80)\\nfig.patch.set_facecolor((1.0, 1.0, 1.0))\\nplt.plot(to_plot_data_date, to_plot_data_y_val_subset, label=\"Actual prices\", color=config[\"plots\"][\"color_actual\"])\\nplt.plot(to_plot_data_date, to_plot_predicted_val, label=\"Predicted prices (validation)\", color=config[\"plots\"][\"color_pred_val\"])\\nplt.title(\"Zoom in to examine predicted price on validation data portion\")\\nxticks = [to_plot_data_date[i] if ((i%int(config[\"plots\"][\"xticks_interval\"]/5)==0 and (len(to_plot_data_date)-i) > config[\"plots\"][\"xticks_interval\"]/6) or i==len(to_plot_data_date)-1) else None for i in range(len(to_plot_data_date))] # make x ticks nice\\nxs = np.arange(0,len(xticks))\\nplt.xticks(xs, xticks, rotation=\\'vertical\\')\\nplt.legend()\\nplt.show()\\n'"
      ]
     },
     "execution_count": 64,
     "metadata": {},
     "output_type": "execute_result"
    }
   ],
   "source": [
    "\"\"\"\n",
    "# prepare data for plotting the zoomed in view of the predicted prices (on validation set) vs. actual prices\n",
    "\n",
    "to_plot_data_y_val_subset = scaler.inverse_transform(data_y_val)\n",
    "to_plot_predicted_val = scaler.inverse_transform(predicted_val)\n",
    "to_plot_data_date = data_date[split_index+config[\"data\"][\"window_size\"]:]\n",
    "\n",
    "# plots\n",
    "\n",
    "fig = figure(figsize=(25, 5), dpi=80)\n",
    "fig.patch.set_facecolor((1.0, 1.0, 1.0))\n",
    "plt.plot(to_plot_data_date, to_plot_data_y_val_subset, label=\"Actual prices\", color=config[\"plots\"][\"color_actual\"])\n",
    "plt.plot(to_plot_data_date, to_plot_predicted_val, label=\"Predicted prices (validation)\", color=config[\"plots\"][\"color_pred_val\"])\n",
    "plt.title(\"Zoom in to examine predicted price on validation data portion\")\n",
    "xticks = [to_plot_data_date[i] if ((i%int(config[\"plots\"][\"xticks_interval\"]/5)==0 and (len(to_plot_data_date)-i) > config[\"plots\"][\"xticks_interval\"]/6) or i==len(to_plot_data_date)-1) else None for i in range(len(to_plot_data_date))] # make x ticks nice\n",
    "xs = np.arange(0,len(xticks))\n",
    "plt.xticks(xs, xticks, rotation='vertical')\n",
    "plt.legend()\n",
    "plt.show()\n",
    "\"\"\""
   ]
  },
  {
   "cell_type": "code",
   "execution_count": 65,
   "metadata": {},
   "outputs": [
    {
     "name": "stderr",
     "output_type": "stream",
     "text": [
      "/var/folders/xn/5_bv95hd63q1174827crqlfm0000gn/T/ipykernel_76663/1630144636.py:19: DeprecationWarning: Conversion of an array with ndim > 0 to a scalar is deprecated, and will error in future. Ensure you extract a single element from your array before performing this operation. (Deprecated NumPy 1.25.)\n",
      "  to_plot_data_y_test_pred[plot_range-1] = scaler.inverse_transform(prediction)\n"
     ]
    },
    {
     "data": {
      "image/png": "[encoded data removed]",
      "text/plain": [
       "<Figure size 2000x400 with 1 Axes>"
      ]
     },
     "metadata": {},
     "output_type": "display_data"
    },
    {
     "name": "stdout",
     "output_type": "stream",
     "text": [
      "Predicted close price of the next trading day: 62036.44\n"
     ]
    }
   ],
   "source": [
    "# predict the closing price of the next trading day\n",
    "\n",
    "model.eval()\n",
    "\n",
    "x = torch.tensor(data_x_unseen).float().to(config[\"training\"][\"device\"]).unsqueeze(0).unsqueeze(2) # this is the data type and shape required, [batch, sequence, feature]\n",
    "prediction = model(x)\n",
    "prediction = prediction.cpu().detach().numpy()\n",
    "\n",
    "# prepare plots\n",
    "\n",
    "plot_range = 10\n",
    "to_plot_data_y_val = np.zeros(plot_range)\n",
    "to_plot_data_y_val_pred = np.zeros(plot_range)\n",
    "to_plot_data_y_test_pred = np.zeros(plot_range)\n",
    "\n",
    "to_plot_data_y_val[:plot_range-1] = scaler.inverse_transform(data_y_val)[-plot_range+1:]\n",
    "to_plot_data_y_val_pred[:plot_range-1] = scaler.inverse_transform(predicted_val)[-plot_range+1:]\n",
    "\n",
    "to_plot_data_y_test_pred[plot_range-1] = scaler.inverse_transform(prediction)\n",
    "\n",
    "to_plot_data_y_val = np.where(to_plot_data_y_val == 0, None, to_plot_data_y_val)\n",
    "to_plot_data_y_val_pred = np.where(to_plot_data_y_val_pred == 0, None, to_plot_data_y_val_pred)\n",
    "to_plot_data_y_test_pred = np.where(to_plot_data_y_test_pred == 0, None, to_plot_data_y_test_pred)\n",
    "\n",
    "# plot\n",
    "\n",
    "plot_date_test = data_date[-plot_range+1:]\n",
    "plot_date_test += [10000]\n",
    "\n",
    "fig = figure(figsize=(25, 5), dpi=80)\n",
    "fig.patch.set_facecolor((1.0, 1.0, 1.0))\n",
    "plt.plot(plot_date_test, to_plot_data_y_val, label=\"Actual prices\", marker=\".\", markersize=10, color=config[\"plots\"][\"color_actual\"])\n",
    "plt.plot(plot_date_test, to_plot_data_y_val_pred, label=\"Past predicted prices\", marker=\".\", markersize=10, color=config[\"plots\"][\"color_pred_val\"])\n",
    "plt.plot(plot_date_test, to_plot_data_y_test_pred, label=\"Predicted price for next day\", marker=\".\", markersize=20, color=config[\"plots\"][\"color_pred_test\"])\n",
    "plt.title(\"Predicted close price of the next trading day\")\n",
    "plt.legend()\n",
    "plt.show()\n",
    "\n",
    "print(\"Predicted close price of the next trading day:\", round(to_plot_data_y_test_pred[plot_range-1], 2))\n"
   ]
  },
  {
   "cell_type": "markdown",
   "metadata": {},
   "source": [
    "BTC data:\n",
    "1:\n",
    "[0.035748502855906535, 0.0013317543180627104, 0.0014516162618684171, 0.0005150965788728218, 0.0009948918109251457, 0.00034604111675758695, 0.001020873152100421, 0.00031549306461753167, 0.0009509156934781357, 0.0003176365131420718, 0.0009439931826622998, 0.0003100294542668885, 0.0009407295578651227, 0.0003105418814441892, 0.0009416977568434959, 0.00031155786014404823, 0.0009397351881072306, 0.00031131575010708034, 0.0009544009931248512, 0.00031129439715233136, 0.0009419884367218856, 0.0003117599330912295, 0.0009451566184945174, 0.00031160261779651763, 0.0009405772475995869, 0.00031134759920490267]\n",
    "\n",
    "2 (20000:) : \n",
    "[0.05968301597431491, 0.00016298538154186707, 0.0019018103471353243, 0.0001593711868672683, 0.0025678684123704443, 0.00022807314588473758, 0.0020026855922878894, 0.0001825303904064809, 0.004028024348372128, 0.00017372169808960427, 0.0017555411632201867, 0.00013073165645923732, 0.0020017015390294546, 0.0001318565076988222, 0.001768903531228716, 0.00012660927980103352, 0.0021421349701995496, 0.00012983895784558162]\n",
    "\n"
   ]
  },
  {
   "cell_type": "markdown",
   "metadata": {},
   "source": [
    "EURUSD Training Result:\n",
    "\n",
    "Epoch[1/200] | loss train:0.0691478338, test:0.0008225897 | lr:0.0100000000\n",
    "Epoch[2/200] | loss train:0.0121363931, test:0.0019171984 | lr:0.0100000000\n",
    "Epoch[3/200] | loss train:0.0108834945, test:0.0016067017 | lr:0.0100000000\n",
    "Epoch[4/200] | loss train:0.0101326545, test:0.0009872033 | lr:0.0100000000\n",
    "Epoch[5/200] | loss train:0.0099313373, test:0.0008735673 | lr:0.0100000000\n",
    "Epoch[6/200] | loss train:0.0095488712, test:0.0009523329 | lr:0.0100000000\n",
    "Epoch[7/200] | loss train:0.0091961821, test:0.0015243408 | lr:0.0100000000\n",
    "Epoch[8/200] | loss train:0.0087783801, test:0.0006284363 | lr:0.0100000000\n",
    "Epoch[9/200] | loss train:0.0088686504, test:0.0008105492 | lr:0.0100000000\n",
    "Epoch[10/200] | loss train:0.0086075023, test:0.0008033224 | lr:0.0100000000\n",
    "Epoch[11/200] | loss train:0.0084885117, test:0.0005660224 | lr:0.0100000000\n",
    "Epoch[12/200] | loss train:0.0084810443, test:0.0005547841 | lr:0.0100000000\n",
    "Epoch[13/200] | loss train:0.0083455516, test:0.0005748897 | lr:0.0100000000\n",
    "Epoch[14/200] | loss train:0.0083025858, test:0.0012779039 | lr:0.0100000000\n",
    "Epoch[15/200] | loss train:0.0082893773, test:0.0006374619 | lr:0.0100000000\n",
    "Epoch[16/200] | loss train:0.0082760242, test:0.0005773010 | lr:0.0100000000\n",
    "Epoch[17/200] | loss train:0.0081361944, test:0.0006015444 | lr:0.0100000000\n",
    "Epoch[18/200] | loss train:0.0081595028, test:0.0006038448 | lr:0.0100000000\n",
    "Epoch[19/200] | loss train:0.0080481429, test:0.0010185691 | lr:0.0100000000\n",
    "Epoch[20/200] | loss train:0.0082025099, test:0.0005598815 | lr:0.0100000000\n",
    "Epoch[21/200] | loss train:0.0078673466, test:0.0005549175 | lr:0.0100000000\n",
    "Epoch[22/200] | loss train:0.0077841952, test:0.0016486956 | lr:0.0100000000\n",
    "Epoch[23/200] | loss train:0.0076949997, test:0.0007061665 | lr:0.0100000000\n",
    "Epoch[24/200] | loss train:0.0077763664, test:0.0005996768 | lr:0.0100000000\n",
    "Epoch[25/200] | loss train:0.0089865327, test:0.0009187112 | lr:0.0100000000\n",
    "Epoch[26/200] | loss train:0.0075343586, test:0.0008021840 | lr:0.0100000000\n",
    "Epoch[27/200] | loss train:0.0074498159, test:0.0006711773 | lr:0.0100000000\n",
    "Epoch[28/200] | loss train:0.0074393469, test:0.0007977107 | lr:0.0100000000\n",
    "Epoch[29/200] | loss train:0.0074208707, test:0.0005355134 | lr:0.0100000000\n",
    "Epoch[30/200] | loss train:0.0087284285, test:0.0006435892 | lr:0.0100000000\n",
    "Epoch[31/200] | loss train:0.0076029928, test:0.0006135401 | lr:0.0100000000\n",
    "Epoch[32/200] | loss train:0.0093676724, test:0.0006499860 | lr:0.0100000000\n",
    "Epoch[33/200] | loss train:0.0072544497, test:0.0013414127 | lr:0.0100000000\n",
    "Epoch[34/200] | loss train:0.0072712576, test:0.0006018376 | lr:0.0100000000\n",
    "Epoch[35/200] | loss train:0.0072372629, test:0.0006417232 | lr:0.0100000000\n",
    "Epoch[36/200] | loss train:0.0072394985, test:0.0005530682 | lr:0.0100000000\n",
    "Epoch[37/200] | loss train:0.0072306977, test:0.0007263525 | lr:0.0100000000\n",
    "Epoch[38/200] | loss train:0.0072053223, test:0.0005996213 | lr:0.0100000000\n",
    "Epoch[39/200] | loss train:0.0071938862, test:0.0008047110 | lr:0.0100000000\n",
    "Epoch[40/200] | loss train:0.0071633845, test:0.0006565568 | lr:0.0100000000\n",
    "Epoch[41/200] | loss train:0.0071630892, test:0.0005655575 | lr:0.0100000000\n",
    "Epoch[42/200] | loss train:0.1668521549, test:0.0356150686 | lr:0.0100000000\n",
    "Epoch[43/200] | loss train:0.0592821172, test:0.0006087026 | lr:0.0100000000\n",
    "Epoch[44/200] | loss train:0.0320418914, test:0.0009675318 | lr:0.0100000000\n",
    "Epoch[45/200] | loss train:0.0620356254, test:0.0014246840 | lr:0.0100000000\n",
    "Epoch[46/200] | loss train:0.0306725641, test:0.0020914362 | lr:0.0100000000\n",
    "Epoch[47/200] | loss train:0.0386282917, test:0.0047935866 | lr:0.0100000000\n",
    "Epoch[48/200] | loss train:0.1180655597, test:0.0032653512 | lr:0.0100000000\n",
    "Epoch[49/200] | loss train:0.0461672245, test:0.0016642454 | lr:0.0100000000\n",
    "Epoch[50/200] | loss train:0.1425239238, test:0.0015630895 | lr:0.0100000000\n",
    "Epoch[51/200] | loss train:0.5641489720, test:0.0052082294 | lr:0.0100000000\n",
    "Epoch[52/200] | loss train:0.0176589261, test:0.0017862645 | lr:0.0100000000\n",
    "Epoch[53/200] | loss train:0.0139333850, test:0.0010109902 | lr:0.0100000000\n",
    "Epoch[54/200] | loss train:0.0181258454, test:0.0013177112 | lr:0.0100000000\n",
    "Epoch[55/200] | loss train:0.0185439830, test:0.0006670062 | lr:0.0100000000\n",
    "Epoch[56/200] | loss train:0.0081442410, test:0.0019733098 | lr:0.0100000000\n",
    "Epoch[57/200] | loss train:0.0078772227, test:0.0007010140 | lr:0.0100000000\n",
    "Epoch[58/200] | loss train:0.0078649844, test:0.0005738960 | lr:0.0100000000\n",
    "Epoch[59/200] | loss train:0.0078743448, test:0.0008755627 | lr:0.0100000000\n",
    "Epoch[60/200] | loss train:0.0077836754, test:0.0005466843 | lr:0.0100000000\n",
    "Epoch[61/200] | loss train:0.0076957065, test:0.0010310015 | lr:0.0100000000\n",
    "Epoch[62/200] | loss train:0.0077218505, test:0.0063900611 | lr:0.0100000000\n",
    "Epoch[63/200] | loss train:0.0076406288, test:0.0006715978 | lr:0.0100000000\n",
    "Epoch[64/200] | loss train:0.0075840946, test:0.0005301981 | lr:0.0100000000\n",
    "Epoch[65/200] | loss train:0.0076906551, test:0.0006470485 | lr:0.0100000000\n",
    "Epoch[66/200] | loss train:0.0075438118, test:0.0007442750 | lr:0.0100000000\n",
    "Epoch[67/200] | loss train:0.0076599096, test:0.0007162794 | lr:0.0100000000\n",
    "Epoch[68/200] | loss train:0.0081364659, test:0.0005172303 | lr:0.0100000000\n",
    "Epoch[69/200] | loss train:0.0074693955, test:0.0005416838 | lr:0.0100000000\n",
    "Epoch[70/200] | loss train:0.0075482144, test:0.0007603651 | lr:0.0100000000\n",
    "Epoch[71/200] | loss train:0.0075292851, test:0.0005637602 | lr:0.0100000000\n",
    "Epoch[72/200] | loss train:0.0074857459, test:0.0006187948 | lr:0.0100000000\n",
    "Epoch[73/200] | loss train:0.0074902961, test:0.0006330680 | lr:0.0100000000\n",
    "Epoch[74/200] | loss train:0.0073694094, test:0.0006200033 | lr:0.0100000000\n",
    "Epoch[75/200] | loss train:0.0075631800, test:0.0008135880 | lr:0.0100000000\n",
    "Epoch[76/200] | loss train:0.0073553186, test:0.0005446316 | lr:0.0100000000\n",
    "Epoch[77/200] | loss train:0.0073379455, test:0.0010424586 | lr:0.0100000000\n",
    "Epoch[78/200] | loss train:0.0072878935, test:0.0006814548 | lr:0.0100000000\n",
    "Epoch[79/200] | loss train:0.0073512259, test:0.0005219196 | lr:0.0100000000\n",
    "Epoch[80/200] | loss train:0.0073379457, test:0.0005558269 | lr:0.0100000000\n",
    "Epoch[81/200] | loss train:0.0072425181, test:0.0008059503 | lr:0.0100000000\n",
    "Epoch[82/200] | loss train:0.0073079224, test:0.0005549689 | lr:0.0100000000\n",
    "Epoch[83/200] | loss train:0.0072473656, test:0.0006000948 | lr:0.0100000000\n",
    "Epoch[84/200] | loss train:0.0073109217, test:0.0010937006 | lr:0.0100000000\n",
    "Epoch[85/200] | loss train:0.0073235298, test:0.0009563906 | lr:0.0100000000\n",
    "Epoch[86/200] | loss train:0.0073272635, test:0.0006063098 | lr:0.0100000000\n",
    "Epoch[87/200] | loss train:0.0073037784, test:0.0005434367 | lr:0.0100000000\n",
    "Epoch[88/200] | loss train:0.0072436007, test:0.0005304329 | lr:0.0100000000\n",
    "Epoch[89/200] | loss train:0.0072952974, test:0.0005522231 | lr:0.0100000000\n",
    "Epoch[90/200] | loss train:0.0071997609, test:0.0006423579 | lr:0.0100000000\n",
    "Epoch[91/200] | loss train:0.0078483668, test:0.0005297679 | lr:0.0100000000\n",
    "Epoch[92/200] | loss train:0.0102535906, test:0.0005562321 | lr:0.0100000000\n",
    "Epoch[93/200] | loss train:0.0077798502, test:0.0007535135 | lr:0.0100000000\n",
    "Epoch[94/200] | loss train:0.0072385519, test:0.0005700273 | lr:0.0100000000\n",
    "Epoch[95/200] | loss train:0.0073096208, test:0.0005795087 | lr:0.0100000000\n",
    "Epoch[96/200] | loss train:0.0076941084, test:0.0005487937 | lr:0.0100000000\n",
    "Epoch[97/200] | loss train:0.0073498899, test:0.0005508804 | lr:0.0100000000\n",
    "Epoch[98/200] | loss train:0.0074106346, test:0.0014873801 | lr:0.0100000000\n",
    "Epoch[99/200] | loss train:0.0076005040, test:0.0005560084 | lr:0.0100000000\n",
    "Epoch[100/200] | loss train:0.0074267981, test:0.0007165476 | lr:0.0100000000\n",
    "Epoch[101/200] | loss train:0.0072842901, test:0.0005335283 | lr:0.0100000000\n",
    "Epoch[102/200] | loss train:0.0871691543, test:0.0007092192 | lr:0.0100000000\n",
    "Epoch[103/200] | loss train:0.0072855639, test:0.0009223022 | lr:0.0100000000\n",
    "Epoch[104/200] | loss train:0.0075389098, test:0.0006040863 | lr:0.0100000000\n",
    "Epoch[105/200] | loss train:1.0062407027, test:0.0008901397 | lr:0.0100000000\n",
    "Epoch[106/200] | loss train:0.2920340098, test:0.0040259525 | lr:0.0100000000\n",
    "Epoch[107/200] | loss train:0.4089882841, test:0.0132980753 | lr:0.0100000000\n",
    "Epoch[108/200] | loss train:0.4441157511, test:0.0224464784 | lr:0.0100000000\n",
    "Epoch[109/200] | loss train:0.2778736997, test:0.0014110179 | lr:0.0100000000\n",
    "Epoch[110/200] | loss train:0.0085698975, test:0.0006088964 | lr:0.0100000000\n",
    "Epoch[111/200] | loss train:0.0081135031, test:0.0005475095 | lr:0.0100000000\n",
    "Epoch[112/200] | loss train:2.1154489665, test:3.4548641305 | lr:0.0100000000\n",
    "Epoch[113/200] | loss train:0.8116411000, test:0.0080949183 | lr:0.0100000000\n",
    "Epoch[114/200] | loss train:0.0954835970, test:0.0011415997 | lr:0.0100000000\n",
    "Epoch[115/200] | loss train:0.0084494049, test:0.0006013825 | lr:0.0100000000\n",
    "Epoch[116/200] | loss train:0.0076640780, test:0.0005539468 | lr:0.0100000000\n",
    "Epoch[117/200] | loss train:0.0076894511, test:0.0006528133 | lr:0.0100000000\n",
    "Epoch[118/200] | loss train:0.0075504515, test:0.0006526150 | lr:0.0100000000\n",
    "Epoch[119/200] | loss train:0.0074605589, test:0.0011199169 | lr:0.0100000000\n",
    "Epoch[120/200] | loss train:0.0075262248, test:0.0005466685 | lr:0.0100000000\n",
    "Epoch[121/200] | loss train:0.0074746153, test:0.0008400277 | lr:0.0100000000\n",
    "Epoch[122/200] | loss train:0.0073980168, test:0.0007058104 | lr:0.0100000000\n",
    "Epoch[123/200] | loss train:0.0073898644, test:0.0008182882 | lr:0.0100000000\n",
    "Epoch[124/200] | loss train:0.0073746742, test:0.0005669070 | lr:0.0100000000\n",
    "Epoch[125/200] | loss train:0.0073054701, test:0.0005375003 | lr:0.0100000000\n",
    "Epoch[126/200] | loss train:0.0073203411, test:0.0007915181 | lr:0.0100000000\n",
    "Epoch[127/200] | loss train:0.0073254131, test:0.0006119890 | lr:0.0100000000\n",
    "Epoch[128/200] | loss train:0.0073152319, test:0.0007943156 | lr:0.0100000000\n",
    "Epoch[129/200] | loss train:0.0072670809, test:0.0006744084 | lr:0.0100000000\n",
    "Epoch[130/200] | loss train:0.0073042126, test:0.0005265648 | lr:0.0100000000\n",
    "Epoch[131/200] | loss train:0.0073088357, test:0.0006085455 | lr:0.0100000000\n",
    "Epoch[132/200] | loss train:0.0072933802, test:0.0009297989 | lr:0.0100000000\n",
    "Epoch[133/200] | loss train:0.0072618852, test:0.0005421031 | lr:0.0100000000\n",
    "Epoch[134/200] | loss train:0.0072314023, test:0.0005918664 | lr:0.0100000000\n",
    "Epoch[135/200] | loss train:0.0072048437, test:0.0007289802 | lr:0.0100000000\n",
    "Epoch[136/200] | loss train:0.0072239104, test:0.0008967628 | lr:0.0100000000\n",
    "Epoch[137/200] | loss train:0.0071568592, test:0.0008851498 | lr:0.0100000000\n",
    "Epoch[138/200] | loss train:0.0071210073, test:0.0005659079 | lr:0.0100000000\n",
    "Epoch[139/200] | loss train:0.0072182281, test:0.0006142783 | lr:0.0100000000\n",
    "Epoch[140/200] | loss train:0.0071037780, test:0.0005185731 | lr:0.0100000000\n",
    "Epoch[141/200] | loss train:0.0071006287, test:0.0005416700 | lr:0.0100000000\n",
    "Epoch[142/200] | loss train:0.0070824796, test:0.0006055200 | lr:0.0100000000\n",
    "Epoch[143/200] | loss train:0.0071287832, test:0.0005379792 | lr:0.0100000000\n",
    "Epoch[144/200] | loss train:0.0070140923, test:0.0010114466 | lr:0.0100000000\n",
    "Epoch[145/200] | loss train:0.0070148927, test:0.0005439722 | lr:0.0100000000\n",
    "Epoch[146/200] | loss train:0.0069746201, test:0.0005519033 | lr:0.0100000000\n",
    "Epoch[147/200] | loss train:0.0071614594, test:0.0005672386 | lr:0.0100000000\n",
    "Epoch[148/200] | loss train:0.0070972962, test:0.0005599793 | lr:0.0100000000\n",
    "Epoch[149/200] | loss train:0.0072621933, test:0.0007330987 | lr:0.0100000000\n",
    "Epoch[150/200] | loss train:0.0071751577, test:0.0005459715 | lr:0.0100000000\n",
    "Epoch[151/200] | loss train:0.0070250596, test:0.0007283028 | lr:0.0100000000\n",
    "Epoch[152/200] | loss train:0.0071319310, test:0.0005343969 | lr:0.0100000000\n",
    "Epoch[153/200] | loss train:0.0071905793, test:0.0005382010 | lr:0.0100000000\n",
    "Epoch[154/200] | loss train:0.0070491169, test:0.0006195499 | lr:0.0100000000\n",
    "Epoch[155/200] | loss train:0.0070966418, test:0.0014796535 | lr:0.0100000000\n",
    "Epoch[156/200] | loss train:0.0070845487, test:0.0005981561 | lr:0.0100000000\n",
    "Epoch[157/200] | loss train:0.0069893573, test:0.0005295138 | lr:0.0100000000\n",
    "Epoch[158/200] | loss train:0.0073897731, test:0.0005427342 | lr:0.0100000000\n",
    "Epoch[159/200] | loss train:0.0070420456, test:0.0005593543 | lr:0.0100000000\n",
    "Epoch[160/200] | loss train:0.0070824617, test:0.0005731496 | lr:0.0100000000\n",
    "Epoch[161/200] | loss train:0.0069954055, test:0.0005232546 | lr:0.0100000000\n",
    "Epoch[162/200] | loss train:0.0070566508, test:0.0005802235 | lr:0.0100000000\n",
    "Epoch[163/200] | loss train:0.0070248898, test:0.0005826111 | lr:0.0100000000\n",
    "Epoch[164/200] | loss train:0.0068983124, test:0.0015673209 | lr:0.0100000000\n",
    "Epoch[165/200] | loss train:0.0070021239, test:0.0005332029 | lr:0.0100000000\n",
    "Epoch[166/200] | loss train:0.0070046989, test:0.0008813438 | lr:0.0100000000\n",
    "Epoch[167/200] | loss train:0.0068979449, test:0.0006426900 | lr:0.0100000000\n",
    "Epoch[168/200] | loss train:0.0069943128, test:0.0007506770 | lr:0.0100000000\n",
    "Epoch[169/200] | loss train:0.0069745302, test:0.0005436719 | lr:0.0100000000\n",
    "Epoch[170/200] | loss train:0.0069250944, test:0.0006233879 | lr:0.0100000000\n",
    "Epoch[171/200] | loss train:0.0069326706, test:0.0005185285 | lr:0.0100000000\n",
    "Epoch[172/200] | loss train:0.0069130696, test:0.0006331279 | lr:0.0100000000\n",
    "Epoch[173/200] | loss train:0.0069999997, test:0.0010778968 | lr:0.0100000000\n",
    "Epoch[174/200] | loss train:0.0070360071, test:0.0005333427 | lr:0.0100000000\n",
    "Epoch[175/200] | loss train:0.0069273880, test:0.0005306330 | lr:0.0100000000\n",
    "Epoch[176/200] | loss train:0.0069866240, test:0.0006155943 | lr:0.0100000000\n",
    "Epoch[177/200] | loss train:0.0068785284, test:0.0006212815 | lr:0.0100000000\n",
    "Epoch[178/200] | loss train:0.0069064591, test:0.0005250609 | lr:0.0100000000\n",
    "Epoch[179/200] | loss train:0.0070084385, test:0.0005450207 | lr:0.0100000000\n",
    "Epoch[180/200] | loss train:0.0069325323, test:0.0007228445 | lr:0.0100000000\n",
    "Epoch[181/200] | loss train:0.0069245361, test:0.0005554870 | lr:0.0100000000\n",
    "Epoch[182/200] | loss train:0.0069568039, test:0.0005521746 | lr:0.0100000000\n",
    "Epoch[183/200] | loss train:0.0069519085, test:0.0006317694 | lr:0.0100000000\n",
    "Epoch[184/200] | loss train:0.0069486730, test:0.0013280473 | lr:0.0100000000\n",
    "Epoch[185/200] | loss train:0.0069323330, test:0.0005531597 | lr:0.0100000000\n",
    "Epoch[186/200] | loss train:0.0069398705, test:0.0006762070 | lr:0.0100000000\n",
    "Epoch[187/200] | loss train:0.0069431178, test:0.0007666082 | lr:0.0100000000\n",
    "Epoch[188/200] | loss train:0.0069699969, test:0.0005889114 | lr:0.0100000000\n",
    "Epoch[189/200] | loss train:0.0069647794, test:0.0005227640 | lr:0.0100000000\n",
    "Epoch[190/200] | loss train:0.0069094671, test:0.0005549020 | lr:0.0100000000\n",
    "Epoch[191/200] | loss train:0.0068960679, test:0.0005442788 | lr:0.0100000000\n",
    "Epoch[192/200] | loss train:0.0070048194, test:0.0005279104 | lr:0.0100000000\n",
    "Epoch[193/200] | loss train:0.0069644782, test:0.0005550538 | lr:0.0100000000\n",
    "Epoch[194/200] | loss train:0.0069739971, test:0.0006460198 | lr:0.0100000000\n",
    "Epoch[195/200] | loss train:0.0070117532, test:0.0005293703 | lr:0.0100000000\n",
    "Epoch[196/200] | loss train:0.0069611882, test:0.0005431021 | lr:0.0100000000\n",
    "Epoch[197/200] | loss train:0.0069931565, test:0.0007845881 | lr:0.0100000000\n",
    "Epoch[198/200] | loss train:0.0069788381, test:0.0005337830 | lr:0.0100000000\n",
    "Epoch[199/200] | loss train:0.0069179704, test:0.0009283768 | lr:0.0100000000\n",
    "Epoch[200/200] | loss train:0.0070203441, test:0.0005453012 | lr:0.0100000000\n",
    "\n",
    "[0.06914783375237984, 0.0008225896688372813, 0.008986532672330278, 0.0009187112358176819, 0.14252392380988763, 0.0015630894941978113, 0.007563180048905559, 0.0008135880254371841, 0.007426798092570239, 0.0007165476389218384, 0.007305470097279675, 0.0005375002812968432, 0.007175157727029305, 0.0005459714899018308, 0.006927388002300934, 0.0005306330022904149, 0.007020344077927477, 0.0005453012344332819]\n"
   ]
  }
 ],
 "metadata": {
  "kernelspec": {
   "display_name": "Python 3",
   "language": "python",
   "name": "python3"
  },
  "language_info": {
   "codemirror_mode": {
    "name": "ipython",
    "version": 3
   },
   "file_extension": ".py",
   "mimetype": "text/x-python",
   "name": "python",
   "nbconvert_exporter": "python",
   "pygments_lexer": "ipython3",
   "version": "3.12.2"
  }
 },
 "nbformat": 4,
 "nbformat_minor": 2
}
